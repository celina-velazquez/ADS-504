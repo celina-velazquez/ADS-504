{
  "nbformat": 4,
  "nbformat_minor": 0,
  "metadata": {
    "colab": {
      "provenance": [],
      "include_colab_link": true
    },
    "kernelspec": {
      "name": "python3",
      "display_name": "Python 3"
    },
    "language_info": {
      "name": "python"
    }
  },
  "cells": [
    {
      "cell_type": "markdown",
      "metadata": {
        "id": "view-in-github",
        "colab_type": "text"
      },
      "source": [
        "<a href=\"https://colab.research.google.com/github/celina-velazquez/ADS-504/blob/main/Assignment_Guide_4_.ipynb\" target=\"_parent\"><img src=\"https://colab.research.google.com/assets/colab-badge.svg\" alt=\"Open In Colab\"/></a>"
      ]
    },
    {
      "cell_type": "code",
      "execution_count": 1,
      "metadata": {
        "id": "3aYVh-umWgyc"
      },
      "outputs": [],
      "source": [
        " import pandas as pd\n",
        "import numpy as np\n",
        "import os\n",
        "import matplotlib.pyplot as plt\n",
        "import matplotlib\n",
        "import seaborn as sns\n",
        "import tarfile\n",
        "from sklearn.datasets import make_classification\n",
        "from sklearn.preprocessing import OneHotEncoder, OrdinalEncoder, LabelEncoder,StandardScaler, Normalizer\n",
        "#from sklearn.metrics import confusion_matrix, accuracy_score,plot_confusion_matrix, classification_report\n",
        "from sklearn.metrics import confusion_matrix, accuracy_score, ConfusionMatrixDisplay, classification_report\n",
        "from sklearn.model_selection import train_test_split, cross_val_score\n",
        "from sklearn.feature_extraction.text import TfidfVectorizer\n",
        "from sklearn.feature_selection import SelectKBest, chi2\n",
        "from sklearn.linear_model import SGDClassifier\n",
        "from mlxtend.plotting import plot_decision_regions\n",
        "from mlxtend.evaluate import bootstrap_point632_score\n",
        "import warnings\n",
        "warnings.simplefilter(action='ignore', category=FutureWarning)\n",
        "warnings.simplefilter(action='ignore', category=matplotlib.MatplotlibDeprecationWarning)"
      ]
    },
    {
      "cell_type": "markdown",
      "source": [
        "**2 Linear Classification**\n",
        "\n",
        "Install the package mlextend: http://rasbt.github.io/mlxtend/installation/\n",
        "Next, you will do a few exercises to visualize the difference between the different linear classifiers.\n",
        "Generate classification data using make_classification from sklearn.datasets:\n",
        "`X, y = make_classification(n_features=2, n_redundant=0, n_informative=2,random_state=1, n_clusters_per_class=1)`\n",
        "\n",
        "Use SGDClassifier to train classifiers using different loss functions: log, hinge, and perceptron. Visualize\n",
        "the trained classifiers using `plot_decision_regions(X, y, clf=model, legend=2)` from\n",
        "the mlextend package. Plot the decision region for each of the three loss functions: a sample plot\n",
        "for hinge loss appears below."
      ],
      "metadata": {
        "id": "UsWWOMcxW893"
      }
    },
    {
      "cell_type": "code",
      "source": [
        "!pip install mlxtend"
      ],
      "metadata": {
        "colab": {
          "base_uri": "https://localhost:8080/"
        },
        "id": "NBDPqK33wHWT",
        "outputId": "afe45580-08ff-4abc-b0e0-9c93beaa000e"
      },
      "execution_count": null,
      "outputs": [
        {
          "output_type": "stream",
          "name": "stdout",
          "text": [
            "Requirement already satisfied: mlxtend in /usr/local/lib/python3.11/dist-packages (0.23.4)\n",
            "Requirement already satisfied: scipy>=1.2.1 in /usr/local/lib/python3.11/dist-packages (from mlxtend) (1.15.3)\n",
            "Requirement already satisfied: numpy>=1.16.2 in /usr/local/lib/python3.11/dist-packages (from mlxtend) (2.0.2)\n",
            "Requirement already satisfied: pandas>=0.24.2 in /usr/local/lib/python3.11/dist-packages (from mlxtend) (2.2.2)\n",
            "Requirement already satisfied: scikit-learn>=1.3.1 in /usr/local/lib/python3.11/dist-packages (from mlxtend) (1.6.1)\n",
            "Requirement already satisfied: matplotlib>=3.0.0 in /usr/local/lib/python3.11/dist-packages (from mlxtend) (3.10.0)\n",
            "Requirement already satisfied: joblib>=0.13.2 in /usr/local/lib/python3.11/dist-packages (from mlxtend) (1.5.1)\n",
            "Requirement already satisfied: contourpy>=1.0.1 in /usr/local/lib/python3.11/dist-packages (from matplotlib>=3.0.0->mlxtend) (1.3.2)\n",
            "Requirement already satisfied: cycler>=0.10 in /usr/local/lib/python3.11/dist-packages (from matplotlib>=3.0.0->mlxtend) (0.12.1)\n",
            "Requirement already satisfied: fonttools>=4.22.0 in /usr/local/lib/python3.11/dist-packages (from matplotlib>=3.0.0->mlxtend) (4.58.5)\n",
            "Requirement already satisfied: kiwisolver>=1.3.1 in /usr/local/lib/python3.11/dist-packages (from matplotlib>=3.0.0->mlxtend) (1.4.8)\n",
            "Requirement already satisfied: packaging>=20.0 in /usr/local/lib/python3.11/dist-packages (from matplotlib>=3.0.0->mlxtend) (25.0)\n",
            "Requirement already satisfied: pillow>=8 in /usr/local/lib/python3.11/dist-packages (from matplotlib>=3.0.0->mlxtend) (11.2.1)\n",
            "Requirement already satisfied: pyparsing>=2.3.1 in /usr/local/lib/python3.11/dist-packages (from matplotlib>=3.0.0->mlxtend) (3.2.3)\n",
            "Requirement already satisfied: python-dateutil>=2.7 in /usr/local/lib/python3.11/dist-packages (from matplotlib>=3.0.0->mlxtend) (2.9.0.post0)\n",
            "Requirement already satisfied: pytz>=2020.1 in /usr/local/lib/python3.11/dist-packages (from pandas>=0.24.2->mlxtend) (2025.2)\n",
            "Requirement already satisfied: tzdata>=2022.7 in /usr/local/lib/python3.11/dist-packages (from pandas>=0.24.2->mlxtend) (2025.2)\n",
            "Requirement already satisfied: threadpoolctl>=3.1.0 in /usr/local/lib/python3.11/dist-packages (from scikit-learn>=1.3.1->mlxtend) (3.6.0)\n",
            "Requirement already satisfied: six>=1.5 in /usr/local/lib/python3.11/dist-packages (from python-dateutil>=2.7->matplotlib>=3.0.0->mlxtend) (1.17.0)\n",
            "\u001b[31mERROR: Operation cancelled by user\u001b[0m\u001b[31m\n",
            "\u001b[0m"
          ]
        }
      ]
    },
    {
      "cell_type": "code",
      "source": [
        "# Model sits here\n",
        "X, y = make_classification(\n",
        "    n_features=2,           # Number of features per sample\n",
        "    n_redundant=0,          # No redundant features\n",
        "    n_informative=2,        # Both features are informative\n",
        "    random_state=1,         # Reproducible results\n",
        "    n_clusters_per_class=1  # One cluster per class\n",
        ")"
      ],
      "metadata": {
        "id": "yVpw9J9JW8Bw"
      },
      "execution_count": 2,
      "outputs": []
    },
    {
      "cell_type": "markdown",
      "source": [
        "**SGD Classifier - Log Loss**"
      ],
      "metadata": {
        "id": "I2OkoRJ1XYpn"
      }
    },
    {
      "cell_type": "code",
      "source": [
        "sgdclf_log = SGDClassifier(loss='log_loss').fit(X, y)\n",
        "# Plot graph using instruction above\n",
        "plot_decision_regions(X, y, clf=sgdclf_log, legend=2)\n",
        "plt.title('SGD Classifier using Log Loss', size=16)\n",
        "plt.show()"
      ],
      "metadata": {
        "colab": {
          "base_uri": "https://localhost:8080/",
          "height": 454
        },
        "id": "wQjQWQLdXYF5",
        "outputId": "63cfabae-7d35-4646-e7a5-4f04731d6d82"
      },
      "execution_count": 3,
      "outputs": [
        {
          "output_type": "display_data",
          "data": {
            "text/plain": [
              "<Figure size 640x480 with 1 Axes>"
            ],
            "image/png": "[encoded data removed]"
          },
          "metadata": {}
        }
      ]
    },
    {
      "cell_type": "markdown",
      "source": [
        "**SGD Classifier - Hinge Loss**"
      ],
      "metadata": {
        "id": "-cSyKsWDXedO"
      }
    },
    {
      "cell_type": "code",
      "source": [
        "sgdclf_hinge = SGDClassifier(loss='hinge').fit(X, y)\n",
        "# Plot graph using instruction above\n",
        "plot_decision_regions(X, y, clf=sgdclf_hinge, legend=2)\n",
        "plt.title('SGD Classifier using Hinge', size=16)\n",
        "plt.show()"
      ],
      "metadata": {
        "colab": {
          "base_uri": "https://localhost:8080/",
          "height": 454
        },
        "id": "nJ1_pRRmW8dv",
        "outputId": "c9a43d6e-d096-41bb-a922-e5829ca7238a"
      },
      "execution_count": 4,
      "outputs": [
        {
          "output_type": "display_data",
          "data": {
            "text/plain": [
              "<Figure size 640x480 with 1 Axes>"
            ],
            "image/png": "[encoded data removed]"
          },
          "metadata": {}
        }
      ]
    },
    {
      "cell_type": "markdown",
      "source": [
        "**SGD Classifier - Perceptron**"
      ],
      "metadata": {
        "id": "WokYVlFHXimu"
      }
    },
    {
      "cell_type": "code",
      "source": [
        "sgdclf_perc = SGDClassifier(loss='perceptron').fit(X, y)\n",
        "# Plot graph using instruction above\n",
        "plot_decision_regions(X, y, clf=sgdclf_perc, legend=2)\n",
        "plt.title('SGD Classifier using Perceptron', size=16)\n",
        "plt.show()"
      ],
      "metadata": {
        "colab": {
          "base_uri": "https://localhost:8080/",
          "height": 454
        },
        "id": "Begzvr2pW8gP",
        "outputId": "9c692f51-cb55-4511-f84c-08c8542ea4cb"
      },
      "execution_count": 5,
      "outputs": [
        {
          "output_type": "display_data",
          "data": {
            "text/plain": [
              "<Figure size 640x480 with 1 Axes>"
            ],
            "image/png": "[encoded data removed]"
          },
          "metadata": {}
        }
      ]
    },
    {
      "cell_type": "markdown",
      "source": [
        "Now, create a larger classification dataset. You will use cross_val_score from scikit-learn and\n",
        "compare this to bootstrap_scores from mlextend.\n",
        "Set up the simulated data as follows:\n",
        "\n",
        "`X, y = make_classification(n_samples=10000,n_features=20, n_redundant=0, n_informative=20,random_state=1,n_clusters_per_class=1)`\n",
        "\n",
        "With your classifier in a variable called model (using SGDClassifier, as before), you can get the\n",
        "accuracies as follows:\n",
        "\n",
        "```\n",
        "scores = cross_val_score(model, X, y, cv=5,scoring=scoring)\n",
        "bootstrap_scores = bootstrap_point632_score(model, X, y, method='oob')\n",
        "```\n",
        "\n",
        "Create a table with the average of each cross-validation score and the average of the bootstrap\n",
        "scores."
      ],
      "metadata": {
        "id": "ALom1fn6Xntu"
      }
    },
    {
      "cell_type": "code",
      "source": [
        "X, y = make_classification(n_samples=10000,n_features=20, n_redundant=0, n_informative=20,random_state=1,n_clusters_per_class=1)"
      ],
      "metadata": {
        "id": "SI8fnhmXW8in"
      },
      "execution_count": 6,
      "outputs": []
    },
    {
      "cell_type": "code",
      "source": [
        "# Here is a recommanded loop to create models\n",
        "loss_f = ['log_loss', 'hinge', 'perceptron']\n",
        "sgdclfs = [SGDClassifier(loss=loss).fit(X, y) for loss in loss_f]\n",
        "scores_list = []\n",
        "avg_list = []\n",
        "for i, loss in enumerate(loss_f):\n",
        "  model = sgdclfs[i]\n",
        "  cv = cross_val_score(model, X, y, cv=5,scoring='accuracy')\n",
        "  bs = bootstrap_point632_score(model, X, y, method='oob')\n",
        "  scores_list.append({'model': loss, 'cv': cv, 'bs': bs})\n",
        "  avg_list.append({'model': loss, 'Average Cross Validation': cv.mean(), 'Average Bootstrap': bs.mean()})"
      ],
      "metadata": {
        "id": "w1N75PORW8lA"
      },
      "execution_count": 7,
      "outputs": []
    },
    {
      "cell_type": "markdown",
      "source": [
        "**Table of Average cross-validation/bootstrap scores**"
      ],
      "metadata": {
        "id": "0f9pAGQOYFsW"
      }
    },
    {
      "cell_type": "code",
      "source": [
        "pd.DataFrame(avg_list)"
      ],
      "metadata": {
        "colab": {
          "base_uri": "https://localhost:8080/",
          "height": 143
        },
        "id": "3ixZVEftYFP-",
        "outputId": "a64059dc-3b33-49ea-c8bc-13a0bdcd1467"
      },
      "execution_count": 8,
      "outputs": [
        {
          "output_type": "execute_result",
          "data": {
            "text/plain": [
              "        model  Average Cross Validation  Average Bootstrap\n",
              "0    log_loss                    0.9051           0.902978\n",
              "1       hinge                    0.8916           0.895117\n",
              "2  perceptron                    0.8737           0.876275"
            ],
            "text/html": [
              "\n",
              "  <div id=\"df-d72505ff-cbaa-4ff3-9f77-567c4ebf9387\" class=\"colab-df-container\">\n",
              "    <div>\n",
              "<style scoped>\n",
              "    .dataframe tbody tr th:only-of-type {\n",
              "        vertical-align: middle;\n",
              "    }\n",
              "\n",
              "    .dataframe tbody tr th {\n",
              "        vertical-align: top;\n",
              "    }\n",
              "\n",
              "    .dataframe thead th {\n",
              "        text-align: right;\n",
              "    }\n",
              "</style>\n",
              "<table border=\"1\" class=\"dataframe\">\n",
              "  <thead>\n",
              "    <tr style=\"text-align: right;\">\n",
              "      <th></th>\n",
              "      <th>model</th>\n",
              "      <th>Average Cross Validation</th>\n",
              "      <th>Average Bootstrap</th>\n",
              "    </tr>\n",
              "  </thead>\n",
              "  <tbody>\n",
              "    <tr>\n",
              "      <th>0</th>\n",
              "      <td>log_loss</td>\n",
              "      <td>0.9051</td>\n",
              "      <td>0.902978</td>\n",
              "    </tr>\n",
              "    <tr>\n",
              "      <th>1</th>\n",
              "      <td>hinge</td>\n",
              "      <td>0.8916</td>\n",
              "      <td>0.895117</td>\n",
              "    </tr>\n",
              "    <tr>\n",
              "      <th>2</th>\n",
              "      <td>perceptron</td>\n",
              "      <td>0.8737</td>\n",
              "      <td>0.876275</td>\n",
              "    </tr>\n",
              "  </tbody>\n",
              "</table>\n",
              "</div>\n",
              "    <div class=\"colab-df-buttons\">\n",
              "\n",
              "  <div class=\"colab-df-container\">\n",
              "    <button class=\"colab-df-convert\" onclick=\"convertToInteractive('df-d72505ff-cbaa-4ff3-9f77-567c4ebf9387')\"\n",
              "            title=\"Convert this dataframe to an interactive table.\"\n",
              "            style=\"display:none;\">\n",
              "\n",
              "  <svg xmlns=\"http://www.w3.org/2000/svg\" height=\"24px\" viewBox=\"0 -960 960 960\">\n",
              "    <path d=\"M120-120v-720h720v720H120Zm60-500h600v-160H180v160Zm220 220h160v-160H400v160Zm0 220h160v-160H400v160ZM180-400h160v-160H180v160Zm440 0h160v-160H620v160ZM180-180h160v-160H180v160Zm440 0h160v-160H620v160Z\"/>\n",
              "  </svg>\n",
              "    </button>\n",
              "\n",
              "  <style>\n",
              "    .colab-df-container {\n",
              "      display:flex;\n",
              "      gap: 12px;\n",
              "    }\n",
              "\n",
              "    .colab-df-convert {\n",
              "      background-color: #E8F0FE;\n",
              "      border: none;\n",
              "      border-radius: 50%;\n",
              "      cursor: pointer;\n",
              "      display: none;\n",
              "      fill: #1967D2;\n",
              "      height: 32px;\n",
              "      padding: 0 0 0 0;\n",
              "      width: 32px;\n",
              "    }\n",
              "\n",
              "    .colab-df-convert:hover {\n",
              "      background-color: #E2EBFA;\n",
              "      box-shadow: 0px 1px 2px rgba(60, 64, 67, 0.3), 0px 1px 3px 1px rgba(60, 64, 67, 0.15);\n",
              "      fill: #174EA6;\n",
              "    }\n",
              "\n",
              "    .colab-df-buttons div {\n",
              "      margin-bottom: 4px;\n",
              "    }\n",
              "\n",
              "    [theme=dark] .colab-df-convert {\n",
              "      background-color: #3B4455;\n",
              "      fill: #D2E3FC;\n",
              "    }\n",
              "\n",
              "    [theme=dark] .colab-df-convert:hover {\n",
              "      background-color: #434B5C;\n",
              "      box-shadow: 0px 1px 3px 1px rgba(0, 0, 0, 0.15);\n",
              "      filter: drop-shadow(0px 1px 2px rgba(0, 0, 0, 0.3));\n",
              "      fill: #FFFFFF;\n",
              "    }\n",
              "  </style>\n",
              "\n",
              "    <script>\n",
              "      const buttonEl =\n",
              "        document.querySelector('#df-d72505ff-cbaa-4ff3-9f77-567c4ebf9387 button.colab-df-convert');\n",
              "      buttonEl.style.display =\n",
              "        google.colab.kernel.accessAllowed ? 'block' : 'none';\n",
              "\n",
              "      async function convertToInteractive(key) {\n",
              "        const element = document.querySelector('#df-d72505ff-cbaa-4ff3-9f77-567c4ebf9387');\n",
              "        const dataTable =\n",
              "          await google.colab.kernel.invokeFunction('convertToInteractive',\n",
              "                                                    [key], {});\n",
              "        if (!dataTable) return;\n",
              "\n",
              "        const docLinkHtml = 'Like what you see? Visit the ' +\n",
              "          '<a target=\"_blank\" href=https://colab.research.google.com/notebooks/data_table.ipynb>data table notebook</a>'\n",
              "          + ' to learn more about interactive tables.';\n",
              "        element.innerHTML = '';\n",
              "        dataTable['output_type'] = 'display_data';\n",
              "        await google.colab.output.renderOutput(dataTable, element);\n",
              "        const docLink = document.createElement('div');\n",
              "        docLink.innerHTML = docLinkHtml;\n",
              "        element.appendChild(docLink);\n",
              "      }\n",
              "    </script>\n",
              "  </div>\n",
              "\n",
              "\n",
              "    <div id=\"df-0c428363-13a7-406f-89dd-f2b758dc1598\">\n",
              "      <button class=\"colab-df-quickchart\" onclick=\"quickchart('df-0c428363-13a7-406f-89dd-f2b758dc1598')\"\n",
              "                title=\"Suggest charts\"\n",
              "                style=\"display:none;\">\n",
              "\n",
              "<svg xmlns=\"http://www.w3.org/2000/svg\" height=\"24px\"viewBox=\"0 0 24 24\"\n",
              "     width=\"24px\">\n",
              "    <g>\n",
              "        <path d=\"M19 3H5c-1.1 0-2 .9-2 2v14c0 1.1.9 2 2 2h14c1.1 0 2-.9 2-2V5c0-1.1-.9-2-2-2zM9 17H7v-7h2v7zm4 0h-2V7h2v10zm4 0h-2v-4h2v4z\"/>\n",
              "    </g>\n",
              "</svg>\n",
              "      </button>\n",
              "\n",
              "<style>\n",
              "  .colab-df-quickchart {\n",
              "      --bg-color: #E8F0FE;\n",
              "      --fill-color: #1967D2;\n",
              "      --hover-bg-color: #E2EBFA;\n",
              "      --hover-fill-color: #174EA6;\n",
              "      --disabled-fill-color: #AAA;\n",
              "      --disabled-bg-color: #DDD;\n",
              "  }\n",
              "\n",
              "  [theme=dark] .colab-df-quickchart {\n",
              "      --bg-color: #3B4455;\n",
              "      --fill-color: #D2E3FC;\n",
              "      --hover-bg-color: #434B5C;\n",
              "      --hover-fill-color: #FFFFFF;\n",
              "      --disabled-bg-color: #3B4455;\n",
              "      --disabled-fill-color: #666;\n",
              "  }\n",
              "\n",
              "  .colab-df-quickchart {\n",
              "    background-color: var(--bg-color);\n",
              "    border: none;\n",
              "    border-radius: 50%;\n",
              "    cursor: pointer;\n",
              "    display: none;\n",
              "    fill: var(--fill-color);\n",
              "    height: 32px;\n",
              "    padding: 0;\n",
              "    width: 32px;\n",
              "  }\n",
              "\n",
              "  .colab-df-quickchart:hover {\n",
              "    background-color: var(--hover-bg-color);\n",
              "    box-shadow: 0 1px 2px rgba(60, 64, 67, 0.3), 0 1px 3px 1px rgba(60, 64, 67, 0.15);\n",
              "    fill: var(--button-hover-fill-color);\n",
              "  }\n",
              "\n",
              "  .colab-df-quickchart-complete:disabled,\n",
              "  .colab-df-quickchart-complete:disabled:hover {\n",
              "    background-color: var(--disabled-bg-color);\n",
              "    fill: var(--disabled-fill-color);\n",
              "    box-shadow: none;\n",
              "  }\n",
              "\n",
              "  .colab-df-spinner {\n",
              "    border: 2px solid var(--fill-color);\n",
              "    border-color: transparent;\n",
              "    border-bottom-color: var(--fill-color);\n",
              "    animation:\n",
              "      spin 1s steps(1) infinite;\n",
              "  }\n",
              "\n",
              "  @keyframes spin {\n",
              "    0% {\n",
              "      border-color: transparent;\n",
              "      border-bottom-color: var(--fill-color);\n",
              "      border-left-color: var(--fill-color);\n",
              "    }\n",
              "    20% {\n",
              "      border-color: transparent;\n",
              "      border-left-color: var(--fill-color);\n",
              "      border-top-color: var(--fill-color);\n",
              "    }\n",
              "    30% {\n",
              "      border-color: transparent;\n",
              "      border-left-color: var(--fill-color);\n",
              "      border-top-color: var(--fill-color);\n",
              "      border-right-color: var(--fill-color);\n",
              "    }\n",
              "    40% {\n",
              "      border-color: transparent;\n",
              "      border-right-color: var(--fill-color);\n",
              "      border-top-color: var(--fill-color);\n",
              "    }\n",
              "    60% {\n",
              "      border-color: transparent;\n",
              "      border-right-color: var(--fill-color);\n",
              "    }\n",
              "    80% {\n",
              "      border-color: transparent;\n",
              "      border-right-color: var(--fill-color);\n",
              "      border-bottom-color: var(--fill-color);\n",
              "    }\n",
              "    90% {\n",
              "      border-color: transparent;\n",
              "      border-bottom-color: var(--fill-color);\n",
              "    }\n",
              "  }\n",
              "</style>\n",
              "\n",
              "      <script>\n",
              "        async function quickchart(key) {\n",
              "          const quickchartButtonEl =\n",
              "            document.querySelector('#' + key + ' button');\n",
              "          quickchartButtonEl.disabled = true;  // To prevent multiple clicks.\n",
              "          quickchartButtonEl.classList.add('colab-df-spinner');\n",
              "          try {\n",
              "            const charts = await google.colab.kernel.invokeFunction(\n",
              "                'suggestCharts', [key], {});\n",
              "          } catch (error) {\n",
              "            console.error('Error during call to suggestCharts:', error);\n",
              "          }\n",
              "          quickchartButtonEl.classList.remove('colab-df-spinner');\n",
              "          quickchartButtonEl.classList.add('colab-df-quickchart-complete');\n",
              "        }\n",
              "        (() => {\n",
              "          let quickchartButtonEl =\n",
              "            document.querySelector('#df-0c428363-13a7-406f-89dd-f2b758dc1598 button');\n",
              "          quickchartButtonEl.style.display =\n",
              "            google.colab.kernel.accessAllowed ? 'block' : 'none';\n",
              "        })();\n",
              "      </script>\n",
              "    </div>\n",
              "\n",
              "    </div>\n",
              "  </div>\n"
            ],
            "application/vnd.google.colaboratory.intrinsic+json": {
              "type": "dataframe",
              "summary": "{\n  \"name\": \"pd\",\n  \"rows\": 3,\n  \"fields\": [\n    {\n      \"column\": \"model\",\n      \"properties\": {\n        \"dtype\": \"string\",\n        \"num_unique_values\": 3,\n        \"samples\": [\n          \"log_loss\",\n          \"hinge\",\n          \"perceptron\"\n        ],\n        \"semantic_type\": \"\",\n        \"description\": \"\"\n      }\n    },\n    {\n      \"column\": \"Average Cross Validation\",\n      \"properties\": {\n        \"dtype\": \"number\",\n        \"std\": 0.015751296242955154,\n        \"min\": 0.8737,\n        \"max\": 0.9051,\n        \"num_unique_values\": 3,\n        \"samples\": [\n          0.9051,\n          0.8916000000000001,\n          0.8737\n        ],\n        \"semantic_type\": \"\",\n        \"description\": \"\"\n      }\n    },\n    {\n      \"column\": \"Average Bootstrap\",\n      \"properties\": {\n        \"dtype\": \"number\",\n        \"std\": 0.013722742496547896,\n        \"min\": 0.8762745960098722,\n        \"max\": 0.9029776155209802,\n        \"num_unique_values\": 3,\n        \"samples\": [\n          0.9029776155209802,\n          0.8951172392205268,\n          0.8762745960098722\n        ],\n        \"semantic_type\": \"\",\n        \"description\": \"\"\n      }\n    }\n  ]\n}"
            }
          },
          "metadata": {},
          "execution_count": 8
        }
      ]
    },
    {
      "cell_type": "code",
      "source": [
        "scores_df = pd.DataFrame(scores_list)\n",
        "\n",
        "# Reshape the data for plotting individual bootstrap scores\n",
        "plot_data = []\n",
        "for index, row in scores_df.iterrows():\n",
        "    model = row['model']\n",
        "    for score in row['bs']:\n",
        "        plot_data.append({'model': model, 'bootstrap_score': score})\n",
        "\n",
        "plot_df = pd.DataFrame(plot_data)\n",
        "\n",
        "#Use sns to plot hinge, log and perceptron. Remember they are all stored in scores_list['bs']\n",
        "sns.scatterplot(data=plot_df, x=\"model\", y=\"bootstrap_score\")\n",
        "\n",
        "plt.title('SGD Classifiers using Bootstrap', size=16)\n",
        "plt.legend()\n",
        "plt.show()"
      ],
      "metadata": {
        "colab": {
          "base_uri": "https://localhost:8080/",
          "height": 529
        },
        "id": "g0VPd_4LYDwn",
        "outputId": "f467b5b3-1b5a-44f3-da9d-ffc2be106eb3"
      },
      "execution_count": 9,
      "outputs": [
        {
          "output_type": "stream",
          "name": "stderr",
          "text": [
            "/tmp/ipython-input-9-2192838935.py:16: UserWarning: No artists with labels found to put in legend.  Note that artists whose label start with an underscore are ignored when legend() is called with no argument.\n",
            "  plt.legend()\n"
          ]
        },
        {
          "output_type": "display_data",
          "data": {
            "text/plain": [
              "<Figure size 640x480 with 1 Axes>"
            ],
            "image/png": "[encoded data removed]"
          },
          "metadata": {}
        }
      ]
    },
    {
      "cell_type": "markdown",
      "source": [
        "Finally, you will look at the importance of setting the regularization parameter. Create a database\n",
        "with only two informative features:\n",
        "\n",
        "`X, y = make_classification(n_samples=1000,n_features=2000, n_redundant=0, n_informative=2,random_state=1, n_clusters_per_class=1)`\n",
        "\n",
        "Train a regularized classifier using ‘log’ as the loss function. Try both types of regularization ‘l1’\n",
        "and ‘l2’ and sweep alpha over a range from: [0.0001,0.001,0.01,0.1,1,10,100,1000]. Use fivefold\n",
        "cross-validation to measure accuracy. Create a table of accuracy indexed by alpha, and use this\n",
        "table to plot the accuracy for both types of regularization. Your plot should look like this:"
      ],
      "metadata": {
        "id": "Odu_s7AsYMs2"
      }
    },
    {
      "cell_type": "code",
      "source": [
        "X, y = make_classification(n_samples=1000,n_features=2000, n_redundant=0, n_informative=2,random_state=1, n_clusters_per_class=1)"
      ],
      "metadata": {
        "id": "p_lIeVABYDy_"
      },
      "execution_count": 10,
      "outputs": []
    },
    {
      "cell_type": "code",
      "source": [
        "alphas = [0.0001, 0.001, 0.01, 0.1, 1, 10, 100, 1000]\n",
        "results = []\n",
        "for a in alphas:\n",
        "  l1clf = SGDClassifier(loss=loss, penalty='l1', alpha=a).fit(X, y) #Classifier with loss='log', penalty='l1', alpha=a, Then fit it on X and y\n",
        "  l2clf = SGDClassifier(loss=loss, penalty='l2', alpha=a).fit(X, y) #Classifier with loss='log', penalty='l2', alpha=a, Then fit it on X and y\n",
        "  l1cv = cross_val_score(l1clf, X, y, cv=5,scoring='accuracy') # Compute cross_val_score for l1clf, cv=5, scoring='accuracy' and mean\n",
        "  l2cv = cross_val_score(l2clf, X, y, cv=5,scoring='accuracy') # Compute cross_val_score for l2clf, cv=5, scoring='accuracy' and mean\n",
        "  results.append({'alpha': a, 'log L1': l1cv, 'log L2': l2cv})"
      ],
      "metadata": {
        "id": "DKQYNQmCYD1g"
      },
      "execution_count": 14,
      "outputs": []
    },
    {
      "cell_type": "markdown",
      "source": [
        "**Accuracy Table by alpha value**"
      ],
      "metadata": {
        "id": "iUNEoatDYZ_X"
      }
    },
    {
      "cell_type": "code",
      "source": [
        "df = pd.DataFrame(results)\n",
        "df['log L1'] = df['log L1'].apply(lambda x: x.mean())\n",
        "df['log L2'] = df['log L2'].apply(lambda x: x.mean())\n",
        "reg_df = df\n",
        "display(reg_df)"
      ],
      "metadata": {
        "colab": {
          "base_uri": "https://localhost:8080/",
          "height": 300
        },
        "id": "Sk3e_Aa3YD38",
        "outputId": "ad238ce9-c1b6-4c5a-f82e-8ee6e057f673"
      },
      "execution_count": 22,
      "outputs": [
        {
          "output_type": "display_data",
          "data": {
            "text/plain": [
              "       alpha  log L1  log L2\n",
              "0     0.0001   0.662   0.653\n",
              "1     0.0010   0.650   0.671\n",
              "2     0.0100   0.713   0.647\n",
              "3     0.1000   0.891   0.586\n",
              "4     1.0000   0.501   0.606\n",
              "5    10.0000   0.499   0.522\n",
              "6   100.0000   0.501   0.501\n",
              "7  1000.0000   0.501   0.499"
            ],
            "text/html": [
              "\n",
              "  <div id=\"df-c8480b36-d375-4f50-8894-4c27c3e3e2bb\" class=\"colab-df-container\">\n",
              "    <div>\n",
              "<style scoped>\n",
              "    .dataframe tbody tr th:only-of-type {\n",
              "        vertical-align: middle;\n",
              "    }\n",
              "\n",
              "    .dataframe tbody tr th {\n",
              "        vertical-align: top;\n",
              "    }\n",
              "\n",
              "    .dataframe thead th {\n",
              "        text-align: right;\n",
              "    }\n",
              "</style>\n",
              "<table border=\"1\" class=\"dataframe\">\n",
              "  <thead>\n",
              "    <tr style=\"text-align: right;\">\n",
              "      <th></th>\n",
              "      <th>alpha</th>\n",
              "      <th>log L1</th>\n",
              "      <th>log L2</th>\n",
              "    </tr>\n",
              "  </thead>\n",
              "  <tbody>\n",
              "    <tr>\n",
              "      <th>0</th>\n",
              "      <td>0.0001</td>\n",
              "      <td>0.662</td>\n",
              "      <td>0.653</td>\n",
              "    </tr>\n",
              "    <tr>\n",
              "      <th>1</th>\n",
              "      <td>0.0010</td>\n",
              "      <td>0.650</td>\n",
              "      <td>0.671</td>\n",
              "    </tr>\n",
              "    <tr>\n",
              "      <th>2</th>\n",
              "      <td>0.0100</td>\n",
              "      <td>0.713</td>\n",
              "      <td>0.647</td>\n",
              "    </tr>\n",
              "    <tr>\n",
              "      <th>3</th>\n",
              "      <td>0.1000</td>\n",
              "      <td>0.891</td>\n",
              "      <td>0.586</td>\n",
              "    </tr>\n",
              "    <tr>\n",
              "      <th>4</th>\n",
              "      <td>1.0000</td>\n",
              "      <td>0.501</td>\n",
              "      <td>0.606</td>\n",
              "    </tr>\n",
              "    <tr>\n",
              "      <th>5</th>\n",
              "      <td>10.0000</td>\n",
              "      <td>0.499</td>\n",
              "      <td>0.522</td>\n",
              "    </tr>\n",
              "    <tr>\n",
              "      <th>6</th>\n",
              "      <td>100.0000</td>\n",
              "      <td>0.501</td>\n",
              "      <td>0.501</td>\n",
              "    </tr>\n",
              "    <tr>\n",
              "      <th>7</th>\n",
              "      <td>1000.0000</td>\n",
              "      <td>0.501</td>\n",
              "      <td>0.499</td>\n",
              "    </tr>\n",
              "  </tbody>\n",
              "</table>\n",
              "</div>\n",
              "    <div class=\"colab-df-buttons\">\n",
              "\n",
              "  <div class=\"colab-df-container\">\n",
              "    <button class=\"colab-df-convert\" onclick=\"convertToInteractive('df-c8480b36-d375-4f50-8894-4c27c3e3e2bb')\"\n",
              "            title=\"Convert this dataframe to an interactive table.\"\n",
              "            style=\"display:none;\">\n",
              "\n",
              "  <svg xmlns=\"http://www.w3.org/2000/svg\" height=\"24px\" viewBox=\"0 -960 960 960\">\n",
              "    <path d=\"M120-120v-720h720v720H120Zm60-500h600v-160H180v160Zm220 220h160v-160H400v160Zm0 220h160v-160H400v160ZM180-400h160v-160H180v160Zm440 0h160v-160H620v160ZM180-180h160v-160H180v160Zm440 0h160v-160H620v160Z\"/>\n",
              "  </svg>\n",
              "    </button>\n",
              "\n",
              "  <style>\n",
              "    .colab-df-container {\n",
              "      display:flex;\n",
              "      gap: 12px;\n",
              "    }\n",
              "\n",
              "    .colab-df-convert {\n",
              "      background-color: #E8F0FE;\n",
              "      border: none;\n",
              "      border-radius: 50%;\n",
              "      cursor: pointer;\n",
              "      display: none;\n",
              "      fill: #1967D2;\n",
              "      height: 32px;\n",
              "      padding: 0 0 0 0;\n",
              "      width: 32px;\n",
              "    }\n",
              "\n",
              "    .colab-df-convert:hover {\n",
              "      background-color: #E2EBFA;\n",
              "      box-shadow: 0px 1px 2px rgba(60, 64, 67, 0.3), 0px 1px 3px 1px rgba(60, 64, 67, 0.15);\n",
              "      fill: #174EA6;\n",
              "    }\n",
              "\n",
              "    .colab-df-buttons div {\n",
              "      margin-bottom: 4px;\n",
              "    }\n",
              "\n",
              "    [theme=dark] .colab-df-convert {\n",
              "      background-color: #3B4455;\n",
              "      fill: #D2E3FC;\n",
              "    }\n",
              "\n",
              "    [theme=dark] .colab-df-convert:hover {\n",
              "      background-color: #434B5C;\n",
              "      box-shadow: 0px 1px 3px 1px rgba(0, 0, 0, 0.15);\n",
              "      filter: drop-shadow(0px 1px 2px rgba(0, 0, 0, 0.3));\n",
              "      fill: #FFFFFF;\n",
              "    }\n",
              "  </style>\n",
              "\n",
              "    <script>\n",
              "      const buttonEl =\n",
              "        document.querySelector('#df-c8480b36-d375-4f50-8894-4c27c3e3e2bb button.colab-df-convert');\n",
              "      buttonEl.style.display =\n",
              "        google.colab.kernel.accessAllowed ? 'block' : 'none';\n",
              "\n",
              "      async function convertToInteractive(key) {\n",
              "        const element = document.querySelector('#df-c8480b36-d375-4f50-8894-4c27c3e3e2bb');\n",
              "        const dataTable =\n",
              "          await google.colab.kernel.invokeFunction('convertToInteractive',\n",
              "                                                    [key], {});\n",
              "        if (!dataTable) return;\n",
              "\n",
              "        const docLinkHtml = 'Like what you see? Visit the ' +\n",
              "          '<a target=\"_blank\" href=https://colab.research.google.com/notebooks/data_table.ipynb>data table notebook</a>'\n",
              "          + ' to learn more about interactive tables.';\n",
              "        element.innerHTML = '';\n",
              "        dataTable['output_type'] = 'display_data';\n",
              "        await google.colab.output.renderOutput(dataTable, element);\n",
              "        const docLink = document.createElement('div');\n",
              "        docLink.innerHTML = docLinkHtml;\n",
              "        element.appendChild(docLink);\n",
              "      }\n",
              "    </script>\n",
              "  </div>\n",
              "\n",
              "\n",
              "    <div id=\"df-a8cd3bf5-bc3f-4115-a9b8-ee9170117cff\">\n",
              "      <button class=\"colab-df-quickchart\" onclick=\"quickchart('df-a8cd3bf5-bc3f-4115-a9b8-ee9170117cff')\"\n",
              "                title=\"Suggest charts\"\n",
              "                style=\"display:none;\">\n",
              "\n",
              "<svg xmlns=\"http://www.w3.org/2000/svg\" height=\"24px\"viewBox=\"0 0 24 24\"\n",
              "     width=\"24px\">\n",
              "    <g>\n",
              "        <path d=\"M19 3H5c-1.1 0-2 .9-2 2v14c0 1.1.9 2 2 2h14c1.1 0 2-.9 2-2V5c0-1.1-.9-2-2-2zM9 17H7v-7h2v7zm4 0h-2V7h2v10zm4 0h-2v-4h2v4z\"/>\n",
              "    </g>\n",
              "</svg>\n",
              "      </button>\n",
              "\n",
              "<style>\n",
              "  .colab-df-quickchart {\n",
              "      --bg-color: #E8F0FE;\n",
              "      --fill-color: #1967D2;\n",
              "      --hover-bg-color: #E2EBFA;\n",
              "      --hover-fill-color: #174EA6;\n",
              "      --disabled-fill-color: #AAA;\n",
              "      --disabled-bg-color: #DDD;\n",
              "  }\n",
              "\n",
              "  [theme=dark] .colab-df-quickchart {\n",
              "      --bg-color: #3B4455;\n",
              "      --fill-color: #D2E3FC;\n",
              "      --hover-bg-color: #434B5C;\n",
              "      --hover-fill-color: #FFFFFF;\n",
              "      --disabled-bg-color: #3B4455;\n",
              "      --disabled-fill-color: #666;\n",
              "  }\n",
              "\n",
              "  .colab-df-quickchart {\n",
              "    background-color: var(--bg-color);\n",
              "    border: none;\n",
              "    border-radius: 50%;\n",
              "    cursor: pointer;\n",
              "    display: none;\n",
              "    fill: var(--fill-color);\n",
              "    height: 32px;\n",
              "    padding: 0;\n",
              "    width: 32px;\n",
              "  }\n",
              "\n",
              "  .colab-df-quickchart:hover {\n",
              "    background-color: var(--hover-bg-color);\n",
              "    box-shadow: 0 1px 2px rgba(60, 64, 67, 0.3), 0 1px 3px 1px rgba(60, 64, 67, 0.15);\n",
              "    fill: var(--button-hover-fill-color);\n",
              "  }\n",
              "\n",
              "  .colab-df-quickchart-complete:disabled,\n",
              "  .colab-df-quickchart-complete:disabled:hover {\n",
              "    background-color: var(--disabled-bg-color);\n",
              "    fill: var(--disabled-fill-color);\n",
              "    box-shadow: none;\n",
              "  }\n",
              "\n",
              "  .colab-df-spinner {\n",
              "    border: 2px solid var(--fill-color);\n",
              "    border-color: transparent;\n",
              "    border-bottom-color: var(--fill-color);\n",
              "    animation:\n",
              "      spin 1s steps(1) infinite;\n",
              "  }\n",
              "\n",
              "  @keyframes spin {\n",
              "    0% {\n",
              "      border-color: transparent;\n",
              "      border-bottom-color: var(--fill-color);\n",
              "      border-left-color: var(--fill-color);\n",
              "    }\n",
              "    20% {\n",
              "      border-color: transparent;\n",
              "      border-left-color: var(--fill-color);\n",
              "      border-top-color: var(--fill-color);\n",
              "    }\n",
              "    30% {\n",
              "      border-color: transparent;\n",
              "      border-left-color: var(--fill-color);\n",
              "      border-top-color: var(--fill-color);\n",
              "      border-right-color: var(--fill-color);\n",
              "    }\n",
              "    40% {\n",
              "      border-color: transparent;\n",
              "      border-right-color: var(--fill-color);\n",
              "      border-top-color: var(--fill-color);\n",
              "    }\n",
              "    60% {\n",
              "      border-color: transparent;\n",
              "      border-right-color: var(--fill-color);\n",
              "    }\n",
              "    80% {\n",
              "      border-color: transparent;\n",
              "      border-right-color: var(--fill-color);\n",
              "      border-bottom-color: var(--fill-color);\n",
              "    }\n",
              "    90% {\n",
              "      border-color: transparent;\n",
              "      border-bottom-color: var(--fill-color);\n",
              "    }\n",
              "  }\n",
              "</style>\n",
              "\n",
              "      <script>\n",
              "        async function quickchart(key) {\n",
              "          const quickchartButtonEl =\n",
              "            document.querySelector('#' + key + ' button');\n",
              "          quickchartButtonEl.disabled = true;  // To prevent multiple clicks.\n",
              "          quickchartButtonEl.classList.add('colab-df-spinner');\n",
              "          try {\n",
              "            const charts = await google.colab.kernel.invokeFunction(\n",
              "                'suggestCharts', [key], {});\n",
              "          } catch (error) {\n",
              "            console.error('Error during call to suggestCharts:', error);\n",
              "          }\n",
              "          quickchartButtonEl.classList.remove('colab-df-spinner');\n",
              "          quickchartButtonEl.classList.add('colab-df-quickchart-complete');\n",
              "        }\n",
              "        (() => {\n",
              "          let quickchartButtonEl =\n",
              "            document.querySelector('#df-a8cd3bf5-bc3f-4115-a9b8-ee9170117cff button');\n",
              "          quickchartButtonEl.style.display =\n",
              "            google.colab.kernel.accessAllowed ? 'block' : 'none';\n",
              "        })();\n",
              "      </script>\n",
              "    </div>\n",
              "\n",
              "  <div id=\"id_0ee5d521-3328-4e39-9b9d-1ecf533c9563\">\n",
              "    <style>\n",
              "      .colab-df-generate {\n",
              "        background-color: #E8F0FE;\n",
              "        border: none;\n",
              "        border-radius: 50%;\n",
              "        cursor: pointer;\n",
              "        display: none;\n",
              "        fill: #1967D2;\n",
              "        height: 32px;\n",
              "        padding: 0 0 0 0;\n",
              "        width: 32px;\n",
              "      }\n",
              "\n",
              "      .colab-df-generate:hover {\n",
              "        background-color: #E2EBFA;\n",
              "        box-shadow: 0px 1px 2px rgba(60, 64, 67, 0.3), 0px 1px 3px 1px rgba(60, 64, 67, 0.15);\n",
              "        fill: #174EA6;\n",
              "      }\n",
              "\n",
              "      [theme=dark] .colab-df-generate {\n",
              "        background-color: #3B4455;\n",
              "        fill: #D2E3FC;\n",
              "      }\n",
              "\n",
              "      [theme=dark] .colab-df-generate:hover {\n",
              "        background-color: #434B5C;\n",
              "        box-shadow: 0px 1px 3px 1px rgba(0, 0, 0, 0.15);\n",
              "        filter: drop-shadow(0px 1px 2px rgba(0, 0, 0, 0.3));\n",
              "        fill: #FFFFFF;\n",
              "      }\n",
              "    </style>\n",
              "    <button class=\"colab-df-generate\" onclick=\"generateWithVariable('reg_df')\"\n",
              "            title=\"Generate code using this dataframe.\"\n",
              "            style=\"display:none;\">\n",
              "\n",
              "  <svg xmlns=\"http://www.w3.org/2000/svg\" height=\"24px\"viewBox=\"0 0 24 24\"\n",
              "       width=\"24px\">\n",
              "    <path d=\"M7,19H8.4L18.45,9,17,7.55,7,17.6ZM5,21V16.75L18.45,3.32a2,2,0,0,1,2.83,0l1.4,1.43a1.91,1.91,0,0,1,.58,1.4,1.91,1.91,0,0,1-.58,1.4L9.25,21ZM18.45,9,17,7.55Zm-12,3A5.31,5.31,0,0,0,4.9,8.1,5.31,5.31,0,0,0,1,6.5,5.31,5.31,0,0,0,4.9,4.9,5.31,5.31,0,0,0,6.5,1,5.31,5.31,0,0,0,8.1,4.9,5.31,5.31,0,0,0,12,6.5,5.46,5.46,0,0,0,6.5,12Z\"/>\n",
              "  </svg>\n",
              "    </button>\n",
              "    <script>\n",
              "      (() => {\n",
              "      const buttonEl =\n",
              "        document.querySelector('#id_0ee5d521-3328-4e39-9b9d-1ecf533c9563 button.colab-df-generate');\n",
              "      buttonEl.style.display =\n",
              "        google.colab.kernel.accessAllowed ? 'block' : 'none';\n",
              "\n",
              "      buttonEl.onclick = () => {\n",
              "        google.colab.notebook.generateWithVariable('reg_df');\n",
              "      }\n",
              "      })();\n",
              "    </script>\n",
              "  </div>\n",
              "\n",
              "    </div>\n",
              "  </div>\n"
            ],
            "application/vnd.google.colaboratory.intrinsic+json": {
              "type": "dataframe",
              "variable_name": "reg_df",
              "summary": "{\n  \"name\": \"reg_df\",\n  \"rows\": 8,\n  \"fields\": [\n    {\n      \"column\": \"alpha\",\n      \"properties\": {\n        \"dtype\": \"number\",\n        \"std\": 349.6488086092568,\n        \"min\": 0.0001,\n        \"max\": 1000.0,\n        \"num_unique_values\": 8,\n        \"samples\": [\n          0.001,\n          10.0,\n          0.0001\n        ],\n        \"semantic_type\": \"\",\n        \"description\": \"\"\n      }\n    },\n    {\n      \"column\": \"log L1\",\n      \"properties\": {\n        \"dtype\": \"number\",\n        \"std\": 0.1422560568632693,\n        \"min\": 0.499,\n        \"max\": 0.891,\n        \"num_unique_values\": 6,\n        \"samples\": [\n          0.6620000000000001,\n          0.65,\n          0.499\n        ],\n        \"semantic_type\": \"\",\n        \"description\": \"\"\n      }\n    },\n    {\n      \"column\": \"log L2\",\n      \"properties\": {\n        \"dtype\": \"number\",\n        \"std\": 0.070431197430035,\n        \"min\": 0.499,\n        \"max\": 0.6709999999999999,\n        \"num_unique_values\": 8,\n        \"samples\": [\n          0.6709999999999999,\n          0.522,\n          0.6529999999999999\n        ],\n        \"semantic_type\": \"\",\n        \"description\": \"\"\n      }\n    }\n  ]\n}"
            }
          },
          "metadata": {}
        }
      ]
    },
    {
      "cell_type": "markdown",
      "source": [
        "**L1/L2 Regularization Accuracy Plot**"
      ],
      "metadata": {
        "id": "rANlxPW2Yd_3"
      }
    },
    {
      "cell_type": "code",
      "source": [
        "# Use sns.lineplot for reg_df['alpha'] vs reg_df['log L2']\n",
        "# Use sns.lineplot for reg_df['alpha'] vs reg_df['log L1']\n",
        "# Add  appropriate legend and title\n",
        "plt.show()"
      ],
      "metadata": {
        "colab": {
          "base_uri": "https://localhost:8080/",
          "height": 301
        },
        "id": "RyYXH4eVYD5_",
        "outputId": "40c0709b-5867-4189-e6e1-f3f4c9667684"
      },
      "execution_count": null,
      "outputs": [
        {
          "output_type": "display_data",
          "data": {
            "text/plain": [
              "<Figure size 432x288 with 1 Axes>"
            ],
            "image/png": "[encoded data removed]"
          },
          "metadata": {
            "needs_background": "light"
          }
        }
      ]
    },
    {
      "cell_type": "markdown",
      "source": [
        "**3 Large Scale Linear Classification**\n",
        "Next, you will use data from a dataset of movie reviews. Unzip the data in aclImdb_v1.tar.\n",
        "\n",
        "There are several formats of data here, but one simple way to load the data into python is to load\n",
        "the files individually into a python list, and then use tfidfVectorizer to convert the reviews into bag\n",
        "of words feature files. Make sure to use pd.DataFrame.sparse.from_spmatrix to make a dataframe\n",
        "from the word features.\n",
        "Now, you will use fivefold cross-validation to look at the effect of the regularization penalty on\n",
        "accuracy. You should be able to simply adapt your code from the earlier section with simulated\n",
        "data to work on this real data. Note that due to the larger size of this text data, this section will\n",
        "take several minutes or more to run.\n",
        "\n",
        "for alpha in [0.00001,0.0001,0.001,0.01,0.1,1,10,100,1000]: for penalty in [‘l1’,‘l2’]\n",
        "\n",
        "**3.1 Download Dataset**\n",
        "\n",
        "https://ai.stanford.edu/~amaas/data/sentiment/aclImdb_v1.tar.gz\n",
        "Since you run the assignment on Google Colab, you don't need to bother extracting all the text\n",
        "files from the tarball. The following cells just reads all the filenames in a dataframe and you will have\n",
        "7\n",
        "code iterating the training and test files, reading the text into a list and appending labels into a\n",
        "dataframe and the dataframes are constructed."
      ],
      "metadata": {
        "id": "v7u_7lRIYinW"
      }
    },
    {
      "cell_type": "code",
      "source": [
        "import urllib.request\n",
        "# Download tar.gz file\n",
        "urllib.request.urlretrieve('https://ai.stanford.edu/~amaas/data/sentiment/aclImdb_v1.tar.gz', 'aclImdb_v1.tar.gz')"
      ],
      "metadata": {
        "colab": {
          "base_uri": "https://localhost:8080/"
        },
        "id": "OxFdlz0yYe83",
        "outputId": "e60a01c0-fcfc-4a53-acc1-2719fd6f5133"
      },
      "execution_count": null,
      "outputs": [
        {
          "output_type": "execute_result",
          "data": {
            "text/plain": [
              "('aclImdb_v1.tar.gz', <http.client.HTTPMessage at 0x7fb0e2662f50>)"
            ]
          },
          "metadata": {},
          "execution_count": 23
        }
      ]
    },
    {
      "cell_type": "code",
      "source": [
        "tar = tarfile.open(\"aclImdb_v1.tar.gz\", \"r:gz\")\n",
        "file_df = pd.DataFrame([m.name for m in tar.getmembers()], columns=['filename'])\n",
        "# Paths\n",
        "train_neg = 'aclImdb/train/neg/'\n",
        "train_pos = 'aclImdb/train/pos/'\n",
        "test_neg = 'aclImdb/test/neg/'\n",
        "test_pos = 'aclImdb/test/pos/'"
      ],
      "metadata": {
        "id": "602sxhBVYe_W"
      },
      "execution_count": null,
      "outputs": []
    },
    {
      "cell_type": "markdown",
      "source": [
        "**Training Dataset**"
      ],
      "metadata": {
        "id": "N-umGLJ4Y3ye"
      }
    },
    {
      "cell_type": "code",
      "source": [
        "# This part of code creates train data\n",
        "# Running this part takes quite some time\n",
        "files = file_df[file_df['filename'].str.startswith(train_neg)]['filename'].tolist()\n",
        "neglist = []\n",
        "for file in files:\n",
        "  f = tar.extractfile(file)\n",
        "  if f is not N one:\n",
        "    neglist.append(f.read().decode(\"utf-8\"))\n",
        "files = file_df[file_df['filename'].str.startswith(train_pos)]['filename'].tolist()\n",
        "poslist = []\n",
        "for file in files:\n",
        "  f = tar.extractfile(file)\n",
        "  if f is not None:\n",
        "    poslist.append(f.read().decode(\"utf-8\"))\n",
        "train_neg_df = pd.DataFrame(list(zip(neglist, np.zeros(len(neglist)))),columns=['text', 'labels'])\n",
        "train_pos_df = pd.DataFrame(list(zip(poslist, np.ones(len(poslist)))),columns=['text', 'labels'])\n",
        "training = pd.concat([train_neg_df, train_pos_df], ignore_index=True)"
      ],
      "metadata": {
        "id": "OV5RUQYRYfCf"
      },
      "execution_count": null,
      "outputs": []
    },
    {
      "cell_type": "code",
      "source": [
        "training.head()"
      ],
      "metadata": {
        "id": "kzVK17TjYD9_"
      },
      "execution_count": null,
      "outputs": []
    },
    {
      "cell_type": "markdown",
      "source": [
        "**Test Dataset**"
      ],
      "metadata": {
        "id": "Zk-7aVrcZKU1"
      }
    },
    {
      "cell_type": "code",
      "source": [
        "# Use similar strategy to create testing data"
      ],
      "metadata": {
        "id": "zzaGk6K7ZIpl"
      },
      "execution_count": null,
      "outputs": []
    },
    {
      "cell_type": "code",
      "source": [
        "testing.head()"
      ],
      "metadata": {
        "id": "2y4orC-IZIr-"
      },
      "execution_count": null,
      "outputs": []
    },
    {
      "cell_type": "markdown",
      "source": [
        "**3.2 Vectorizer - bag of words**"
      ],
      "metadata": {
        "id": "DwLZ82_6ZWzu"
      }
    },
    {
      "cell_type": "code",
      "source": [
        "vectorizer = TfidfVectorizer()\n",
        "spmat = vectorizer.fit_transform(training['text'])\n",
        "feat_names = vectorizer.get_feature_names()\n",
        "Xtrain = pd.DataFrame.sparse.from_spmatrix(spmat, columns=feat_names)\n",
        "ytrain = training['labels']"
      ],
      "metadata": {
        "id": "mimThqiBZWMP"
      },
      "execution_count": null,
      "outputs": []
    },
    {
      "cell_type": "markdown",
      "source": [
        "**SGD Classifier - Log Loss L1 Regularization**"
      ],
      "metadata": {
        "id": "e858n3AMZaZe"
      }
    },
    {
      "cell_type": "code",
      "source": [
        "alphas = [0.00001, 0.0001, 0.001, 0.01, 0.1, 1, 10, 100, 1000]\n",
        "results = []\n",
        "for a in alphas:\n",
        "  l1clf = #Create SGDClassifier with loss of 'log', penalty of 'l1' and proper alpha=a then fit it on (Xtrain, ytrain)\n",
        "  print('Finished training, alpha=%f' % a)\n",
        "  l1cv = #Create cross_val_score with l1clf for Xtrain and  ytrain with cv=5 'accuracy' as scoring='accuracy' it is good to define n_jobs to make it faster and compute the mean at the end\n",
        "  print('Finished 5-fold CV, alpha=%f' % a)\n",
        "  results # append 'alpha' and 'log L1'\n",
        "l1_acc = pd.DataFrame(results)"
      ],
      "metadata": {
        "id": "XS40Ha5EZWOz"
      },
      "execution_count": null,
      "outputs": []
    },
    {
      "cell_type": "markdown",
      "source": [
        "**SGD Classifier - Log Loss L2 Regularization**"
      ],
      "metadata": {
        "id": "SaHCPq6TZkmf"
      }
    },
    {
      "cell_type": "code",
      "source": [
        "# Repeat above analysis for L2\n",
        "l2_acc = pd.DataFrame(results)"
      ],
      "metadata": {
        "id": "51pCuE9HZWRO"
      },
      "execution_count": null,
      "outputs": []
    },
    {
      "cell_type": "markdown",
      "source": [
        "**L1/L2 Accuracy Plot**"
      ],
      "metadata": {
        "id": "YCLE4tO9Zu99"
      }
    },
    {
      "cell_type": "code",
      "source": [
        "# Create an appropriate plot of L1/L2. rmember to put legend and proper title"
      ],
      "metadata": {
        "id": "iYy3EXnhZWT1"
      },
      "execution_count": null,
      "outputs": []
    },
    {
      "cell_type": "code",
      "source": [],
      "metadata": {
        "id": "DHxdSVpQZIwl"
      },
      "execution_count": null,
      "outputs": []
    }
  ]
}