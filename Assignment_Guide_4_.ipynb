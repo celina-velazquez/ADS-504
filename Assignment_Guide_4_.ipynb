{
  "nbformat": 4,
  "nbformat_minor": 0,
  "metadata": {
    "colab": {
      "provenance": [],
      "include_colab_link": true
    },
    "kernelspec": {
      "name": "python3",
      "display_name": "Python 3"
    },
    "language_info": {
      "name": "python"
    }
  },
  "cells": [
    {
      "cell_type": "markdown",
      "metadata": {
        "id": "view-in-github",
        "colab_type": "text"
      },
      "source": [
        "<a href=\"https://colab.research.google.com/github/celina-velazquez/ADS-504/blob/main/Assignment_Guide_4_.ipynb\" target=\"_parent\"><img src=\"https://colab.research.google.com/assets/colab-badge.svg\" alt=\"Open In Colab\"/></a>"
      ]
    },
    {
      "cell_type": "code",
      "execution_count": 2,
      "metadata": {
        "id": "3aYVh-umWgyc"
      },
      "outputs": [],
      "source": [
        "import pandas as pd\n",
        "import numpy as np\n",
        "import os\n",
        "import matplotlib.pyplot as plt\n",
        "import matplotlib\n",
        "import seaborn as sns\n",
        "import tarfile\n",
        "from sklearn.datasets import make_classification\n",
        "from sklearn.preprocessing import OneHotEncoder, OrdinalEncoder, LabelEncoder,StandardScaler, Normalizer\n",
        "#from sklearn.metrics import confusion_matrix, accuracy_score,plot_confusion_matrix, classification_report\n",
        "from sklearn.metrics import confusion_matrix, accuracy_score, ConfusionMatrixDisplay, classification_report\n",
        "from sklearn.model_selection import train_test_split, cross_val_score\n",
        "from sklearn.feature_extraction.text import TfidfVectorizer\n",
        "from sklearn.feature_selection import SelectKBest, chi2\n",
        "from sklearn.linear_model import SGDClassifier\n",
        "from mlxtend.plotting import plot_decision_regions\n",
        "from mlxtend.evaluate import bootstrap_point632_score\n",
        "import warnings\n",
        "warnings.simplefilter(action='ignore', category=FutureWarning)\n",
        "warnings.simplefilter(action='ignore', category=matplotlib.MatplotlibDeprecationWarning)"
      ]
    },
    {
      "cell_type": "markdown",
      "source": [
        "**2 Linear Classification**\n",
        "\n",
        "Install the package mlextend: http://rasbt.github.io/mlxtend/installation/\n",
        "Next, you will do a few exercises to visualize the difference between the different linear classifiers.\n",
        "Generate classification data using make_classification from sklearn.datasets:\n",
        "`X, y = make_classification(n_features=2, n_redundant=0, n_informative=2,random_state=1, n_clusters_per_class=1)`\n",
        "\n",
        "Use SGDClassifier to train classifiers using different loss functions: log, hinge, and perceptron. Visualize\n",
        "the trained classifiers using `plot_decision_regions(X, y, clf=model, legend=2)` from\n",
        "the mlextend package. Plot the decision region for each of the three loss functions: a sample plot\n",
        "for hinge loss appears below."
      ],
      "metadata": {
        "id": "UsWWOMcxW893"
      }
    },
    {
      "cell_type": "code",
      "source": [
        "!pip install mlxtend"
      ],
      "metadata": {
        "colab": {
          "base_uri": "https://localhost:8080/"
        },
        "id": "NBDPqK33wHWT",
        "outputId": "6b1774aa-ce15-4cc2-967a-d92c8876e9f7"
      },
      "execution_count": null,
      "outputs": [
        {
          "output_type": "stream",
          "name": "stdout",
          "text": [
            "Requirement already satisfied: mlxtend in /usr/local/lib/python3.11/dist-packages (0.23.4)\n",
            "Requirement already satisfied: scipy>=1.2.1 in /usr/local/lib/python3.11/dist-packages (from mlxtend) (1.15.3)\n",
            "Requirement already satisfied: numpy>=1.16.2 in /usr/local/lib/python3.11/dist-packages (from mlxtend) (2.0.2)\n",
            "Requirement already satisfied: pandas>=0.24.2 in /usr/local/lib/python3.11/dist-packages (from mlxtend) (2.2.2)\n",
            "Requirement already satisfied: scikit-learn>=1.3.1 in /usr/local/lib/python3.11/dist-packages (from mlxtend) (1.6.1)\n",
            "Requirement already satisfied: matplotlib>=3.0.0 in /usr/local/lib/python3.11/dist-packages (from mlxtend) (3.10.0)\n",
            "Requirement already satisfied: joblib>=0.13.2 in /usr/local/lib/python3.11/dist-packages (from mlxtend) (1.5.1)\n",
            "Requirement already satisfied: contourpy>=1.0.1 in /usr/local/lib/python3.11/dist-packages (from matplotlib>=3.0.0->mlxtend) (1.3.2)\n",
            "Requirement already satisfied: cycler>=0.10 in /usr/local/lib/python3.11/dist-packages (from matplotlib>=3.0.0->mlxtend) (0.12.1)\n",
            "Requirement already satisfied: fonttools>=4.22.0 in /usr/local/lib/python3.11/dist-packages (from matplotlib>=3.0.0->mlxtend) (4.59.0)\n",
            "Requirement already satisfied: kiwisolver>=1.3.1 in /usr/local/lib/python3.11/dist-packages (from matplotlib>=3.0.0->mlxtend) (1.4.8)\n",
            "Requirement already satisfied: packaging>=20.0 in /usr/local/lib/python3.11/dist-packages (from matplotlib>=3.0.0->mlxtend) (25.0)\n",
            "Requirement already satisfied: pillow>=8 in /usr/local/lib/python3.11/dist-packages (from matplotlib>=3.0.0->mlxtend) (11.2.1)\n",
            "Requirement already satisfied: pyparsing>=2.3.1 in /usr/local/lib/python3.11/dist-packages (from matplotlib>=3.0.0->mlxtend) (3.2.3)\n",
            "Requirement already satisfied: python-dateutil>=2.7 in /usr/local/lib/python3.11/dist-packages (from matplotlib>=3.0.0->mlxtend) (2.9.0.post0)\n",
            "Requirement already satisfied: pytz>=2020.1 in /usr/local/lib/python3.11/dist-packages (from pandas>=0.24.2->mlxtend) (2025.2)\n",
            "Requirement already satisfied: tzdata>=2022.7 in /usr/local/lib/python3.11/dist-packages (from pandas>=0.24.2->mlxtend) (2025.2)\n",
            "Requirement already satisfied: threadpoolctl>=3.1.0 in /usr/local/lib/python3.11/dist-packages (from scikit-learn>=1.3.1->mlxtend) (3.6.0)\n",
            "Requirement already satisfied: six>=1.5 in /usr/local/lib/python3.11/dist-packages (from python-dateutil>=2.7->matplotlib>=3.0.0->mlxtend) (1.17.0)\n"
          ]
        }
      ]
    },
    {
      "cell_type": "code",
      "source": [
        "# Model sits here\n",
        "X, y = make_classification(\n",
        "    n_features=2,           # Number of features per sample\n",
        "    n_redundant=0,          # No redundant features\n",
        "    n_informative=2,        # Both features are informative\n",
        "    random_state=1,         # Reproducible results\n",
        "    n_clusters_per_class=1  # One cluster per class\n",
        ")"
      ],
      "metadata": {
        "id": "yVpw9J9JW8Bw"
      },
      "execution_count": 3,
      "outputs": []
    },
    {
      "cell_type": "markdown",
      "source": [
        "**SGD Classifier - Log Loss**"
      ],
      "metadata": {
        "id": "I2OkoRJ1XYpn"
      }
    },
    {
      "cell_type": "code",
      "source": [
        "sgdclf_log = SGDClassifier(loss='log_loss').fit(X, y)\n",
        "# Plot graph using instruction above\n",
        "plot_decision_regions(X, y, clf=sgdclf_log, legend=2)\n",
        "plt.title('SGD Classifier using Log Loss', size=16)\n",
        "plt.show()"
      ],
      "metadata": {
        "colab": {
          "base_uri": "https://localhost:8080/",
          "height": 454
        },
        "id": "wQjQWQLdXYF5",
        "outputId": "1196c35a-3827-4c55-fb20-f56fb5716dfb"
      },
      "execution_count": 4,
      "outputs": [
        {
          "output_type": "display_data",
          "data": {
            "text/plain": [
              "<Figure size 640x480 with 1 Axes>"
            ],
            "image/png": "[encoded data removed]"
          },
          "metadata": {}
        }
      ]
    },
    {
      "cell_type": "markdown",
      "source": [
        "**SGD Classifier - Hinge Loss**"
      ],
      "metadata": {
        "id": "-cSyKsWDXedO"
      }
    },
    {
      "cell_type": "code",
      "source": [
        "sgdclf_hinge = SGDClassifier(loss='hinge').fit(X, y)\n",
        "# Plot graph using instruction above\n",
        "plot_decision_regions(X, y, clf=sgdclf_hinge, legend=2)\n",
        "plt.title('SGD Classifier using Hinge', size=16)\n",
        "plt.show()"
      ],
      "metadata": {
        "colab": {
          "base_uri": "https://localhost:8080/",
          "height": 454
        },
        "id": "nJ1_pRRmW8dv",
        "outputId": "fd7b1a4b-decd-43b0-c5fa-21de3d04df56"
      },
      "execution_count": 5,
      "outputs": [
        {
          "output_type": "display_data",
          "data": {
            "text/plain": [
              "<Figure size 640x480 with 1 Axes>"
            ],
            "image/png": "[encoded data removed]"
          },
          "metadata": {}
        }
      ]
    },
    {
      "cell_type": "markdown",
      "source": [
        "**SGD Classifier - Perceptron**"
      ],
      "metadata": {
        "id": "WokYVlFHXimu"
      }
    },
    {
      "cell_type": "code",
      "source": [
        "sgdclf_perc = SGDClassifier(loss='perceptron').fit(X, y)\n",
        "# Plot graph using instruction above\n",
        "plot_decision_regions(X, y, clf=sgdclf_perc, legend=2)\n",
        "plt.title('SGD Classifier using Perceptron', size=16)\n",
        "plt.show()"
      ],
      "metadata": {
        "colab": {
          "base_uri": "https://localhost:8080/",
          "height": 454
        },
        "id": "Begzvr2pW8gP",
        "outputId": "2fdff04a-b921-4094-9af9-8f4977e5b9cc"
      },
      "execution_count": 6,
      "outputs": [
        {
          "output_type": "display_data",
          "data": {
            "text/plain": [
              "<Figure size 640x480 with 1 Axes>"
            ],
            "image/png": "[encoded data removed]"
          },
          "metadata": {}
        }
      ]
    },
    {
      "cell_type": "markdown",
      "source": [
        "Now, create a larger classification dataset. You will use cross_val_score from scikit-learn and\n",
        "compare this to bootstrap_scores from mlextend.\n",
        "Set up the simulated data as follows:\n",
        "\n",
        "`X, y = make_classification(n_samples=10000,n_features=20, n_redundant=0, n_informative=20,random_state=1,n_clusters_per_class=1)`\n",
        "\n",
        "With your classifier in a variable called model (using SGDClassifier, as before), you can get the\n",
        "accuracies as follows:\n",
        "\n",
        "```\n",
        "scores = cross_val_score(model, X, y, cv=5,scoring=scoring)\n",
        "bootstrap_scores = bootstrap_point632_score(model, X, y, method='oob')\n",
        "```\n",
        "\n",
        "Create a table with the average of each cross-validation score and the average of the bootstrap\n",
        "scores."
      ],
      "metadata": {
        "id": "ALom1fn6Xntu"
      }
    },
    {
      "cell_type": "code",
      "source": [
        "X, y = make_classification(n_samples=10000,n_features=20, n_redundant=0, n_informative=20,random_state=1,n_clusters_per_class=1)"
      ],
      "metadata": {
        "id": "SI8fnhmXW8in"
      },
      "execution_count": 7,
      "outputs": []
    },
    {
      "cell_type": "code",
      "source": [
        "# Here is a recommanded loop to create models\n",
        "loss_f = ['log_loss', 'hinge', 'perceptron']\n",
        "sgdclfs = [SGDClassifier(loss=loss).fit(X, y) for loss in loss_f]\n",
        "scores_list = []\n",
        "avg_list = []\n",
        "for i, loss in enumerate(loss_f):\n",
        "  model = sgdclfs[i]\n",
        "  cv = cross_val_score(model, X, y, cv=5,scoring='accuracy')\n",
        "  bs = bootstrap_point632_score(model, X, y, method='oob')\n",
        "  scores_list.append({'model': loss, 'cv': cv, 'bs': bs})\n",
        "  avg_list.append({'model': loss, 'Average Cross Validation': cv.mean(), 'Average Bootstrap': bs.mean()})"
      ],
      "metadata": {
        "id": "w1N75PORW8lA"
      },
      "execution_count": 8,
      "outputs": []
    },
    {
      "cell_type": "markdown",
      "source": [
        "**Table of Average cross-validation/bootstrap scores**"
      ],
      "metadata": {
        "id": "0f9pAGQOYFsW"
      }
    },
    {
      "cell_type": "code",
      "source": [
        "pd.DataFrame(avg_list)"
      ],
      "metadata": {
        "colab": {
          "base_uri": "https://localhost:8080/",
          "height": 143
        },
        "id": "3ixZVEftYFP-",
        "outputId": "663bc310-b88a-467f-fb4c-dc4e7321f6de"
      },
      "execution_count": 9,
      "outputs": [
        {
          "output_type": "execute_result",
          "data": {
            "text/plain": [
              "        model  Average Cross Validation  Average Bootstrap\n",
              "0    log_loss                    0.8949           0.903786\n",
              "1       hinge                    0.8923           0.897432\n",
              "2  perceptron                    0.8747           0.873296"
            ],
            "text/html": [
              "\n",
              "  <div id=\"df-2c0a76b2-6fae-4d51-b9bd-42faee6096fb\" class=\"colab-df-container\">\n",
              "    <div>\n",
              "<style scoped>\n",
              "    .dataframe tbody tr th:only-of-type {\n",
              "        vertical-align: middle;\n",
              "    }\n",
              "\n",
              "    .dataframe tbody tr th {\n",
              "        vertical-align: top;\n",
              "    }\n",
              "\n",
              "    .dataframe thead th {\n",
              "        text-align: right;\n",
              "    }\n",
              "</style>\n",
              "<table border=\"1\" class=\"dataframe\">\n",
              "  <thead>\n",
              "    <tr style=\"text-align: right;\">\n",
              "      <th></th>\n",
              "      <th>model</th>\n",
              "      <th>Average Cross Validation</th>\n",
              "      <th>Average Bootstrap</th>\n",
              "    </tr>\n",
              "  </thead>\n",
              "  <tbody>\n",
              "    <tr>\n",
              "      <th>0</th>\n",
              "      <td>log_loss</td>\n",
              "      <td>0.8949</td>\n",
              "      <td>0.903786</td>\n",
              "    </tr>\n",
              "    <tr>\n",
              "      <th>1</th>\n",
              "      <td>hinge</td>\n",
              "      <td>0.8923</td>\n",
              "      <td>0.897432</td>\n",
              "    </tr>\n",
              "    <tr>\n",
              "      <th>2</th>\n",
              "      <td>perceptron</td>\n",
              "      <td>0.8747</td>\n",
              "      <td>0.873296</td>\n",
              "    </tr>\n",
              "  </tbody>\n",
              "</table>\n",
              "</div>\n",
              "    <div class=\"colab-df-buttons\">\n",
              "\n",
              "  <div class=\"colab-df-container\">\n",
              "    <button class=\"colab-df-convert\" onclick=\"convertToInteractive('df-2c0a76b2-6fae-4d51-b9bd-42faee6096fb')\"\n",
              "            title=\"Convert this dataframe to an interactive table.\"\n",
              "            style=\"display:none;\">\n",
              "\n",
              "  <svg xmlns=\"http://www.w3.org/2000/svg\" height=\"24px\" viewBox=\"0 -960 960 960\">\n",
              "    <path d=\"M120-120v-720h720v720H120Zm60-500h600v-160H180v160Zm220 220h160v-160H400v160Zm0 220h160v-160H400v160ZM180-400h160v-160H180v160Zm440 0h160v-160H620v160ZM180-180h160v-160H180v160Zm440 0h160v-160H620v160Z\"/>\n",
              "  </svg>\n",
              "    </button>\n",
              "\n",
              "  <style>\n",
              "    .colab-df-container {\n",
              "      display:flex;\n",
              "      gap: 12px;\n",
              "    }\n",
              "\n",
              "    .colab-df-convert {\n",
              "      background-color: #E8F0FE;\n",
              "      border: none;\n",
              "      border-radius: 50%;\n",
              "      cursor: pointer;\n",
              "      display: none;\n",
              "      fill: #1967D2;\n",
              "      height: 32px;\n",
              "      padding: 0 0 0 0;\n",
              "      width: 32px;\n",
              "    }\n",
              "\n",
              "    .colab-df-convert:hover {\n",
              "      background-color: #E2EBFA;\n",
              "      box-shadow: 0px 1px 2px rgba(60, 64, 67, 0.3), 0px 1px 3px 1px rgba(60, 64, 67, 0.15);\n",
              "      fill: #174EA6;\n",
              "    }\n",
              "\n",
              "    .colab-df-buttons div {\n",
              "      margin-bottom: 4px;\n",
              "    }\n",
              "\n",
              "    [theme=dark] .colab-df-convert {\n",
              "      background-color: #3B4455;\n",
              "      fill: #D2E3FC;\n",
              "    }\n",
              "\n",
              "    [theme=dark] .colab-df-convert:hover {\n",
              "      background-color: #434B5C;\n",
              "      box-shadow: 0px 1px 3px 1px rgba(0, 0, 0, 0.15);\n",
              "      filter: drop-shadow(0px 1px 2px rgba(0, 0, 0, 0.3));\n",
              "      fill: #FFFFFF;\n",
              "    }\n",
              "  </style>\n",
              "\n",
              "    <script>\n",
              "      const buttonEl =\n",
              "        document.querySelector('#df-2c0a76b2-6fae-4d51-b9bd-42faee6096fb button.colab-df-convert');\n",
              "      buttonEl.style.display =\n",
              "        google.colab.kernel.accessAllowed ? 'block' : 'none';\n",
              "\n",
              "      async function convertToInteractive(key) {\n",
              "        const element = document.querySelector('#df-2c0a76b2-6fae-4d51-b9bd-42faee6096fb');\n",
              "        const dataTable =\n",
              "          await google.colab.kernel.invokeFunction('convertToInteractive',\n",
              "                                                    [key], {});\n",
              "        if (!dataTable) return;\n",
              "\n",
              "        const docLinkHtml = 'Like what you see? Visit the ' +\n",
              "          '<a target=\"_blank\" href=https://colab.research.google.com/notebooks/data_table.ipynb>data table notebook</a>'\n",
              "          + ' to learn more about interactive tables.';\n",
              "        element.innerHTML = '';\n",
              "        dataTable['output_type'] = 'display_data';\n",
              "        await google.colab.output.renderOutput(dataTable, element);\n",
              "        const docLink = document.createElement('div');\n",
              "        docLink.innerHTML = docLinkHtml;\n",
              "        element.appendChild(docLink);\n",
              "      }\n",
              "    </script>\n",
              "  </div>\n",
              "\n",
              "\n",
              "    <div id=\"df-acd1a86f-d62c-4dc0-8f48-0428746828a1\">\n",
              "      <button class=\"colab-df-quickchart\" onclick=\"quickchart('df-acd1a86f-d62c-4dc0-8f48-0428746828a1')\"\n",
              "                title=\"Suggest charts\"\n",
              "                style=\"display:none;\">\n",
              "\n",
              "<svg xmlns=\"http://www.w3.org/2000/svg\" height=\"24px\"viewBox=\"0 0 24 24\"\n",
              "     width=\"24px\">\n",
              "    <g>\n",
              "        <path d=\"M19 3H5c-1.1 0-2 .9-2 2v14c0 1.1.9 2 2 2h14c1.1 0 2-.9 2-2V5c0-1.1-.9-2-2-2zM9 17H7v-7h2v7zm4 0h-2V7h2v10zm4 0h-2v-4h2v4z\"/>\n",
              "    </g>\n",
              "</svg>\n",
              "      </button>\n",
              "\n",
              "<style>\n",
              "  .colab-df-quickchart {\n",
              "      --bg-color: #E8F0FE;\n",
              "      --fill-color: #1967D2;\n",
              "      --hover-bg-color: #E2EBFA;\n",
              "      --hover-fill-color: #174EA6;\n",
              "      --disabled-fill-color: #AAA;\n",
              "      --disabled-bg-color: #DDD;\n",
              "  }\n",
              "\n",
              "  [theme=dark] .colab-df-quickchart {\n",
              "      --bg-color: #3B4455;\n",
              "      --fill-color: #D2E3FC;\n",
              "      --hover-bg-color: #434B5C;\n",
              "      --hover-fill-color: #FFFFFF;\n",
              "      --disabled-bg-color: #3B4455;\n",
              "      --disabled-fill-color: #666;\n",
              "  }\n",
              "\n",
              "  .colab-df-quickchart {\n",
              "    background-color: var(--bg-color);\n",
              "    border: none;\n",
              "    border-radius: 50%;\n",
              "    cursor: pointer;\n",
              "    display: none;\n",
              "    fill: var(--fill-color);\n",
              "    height: 32px;\n",
              "    padding: 0;\n",
              "    width: 32px;\n",
              "  }\n",
              "\n",
              "  .colab-df-quickchart:hover {\n",
              "    background-color: var(--hover-bg-color);\n",
              "    box-shadow: 0 1px 2px rgba(60, 64, 67, 0.3), 0 1px 3px 1px rgba(60, 64, 67, 0.15);\n",
              "    fill: var(--button-hover-fill-color);\n",
              "  }\n",
              "\n",
              "  .colab-df-quickchart-complete:disabled,\n",
              "  .colab-df-quickchart-complete:disabled:hover {\n",
              "    background-color: var(--disabled-bg-color);\n",
              "    fill: var(--disabled-fill-color);\n",
              "    box-shadow: none;\n",
              "  }\n",
              "\n",
              "  .colab-df-spinner {\n",
              "    border: 2px solid var(--fill-color);\n",
              "    border-color: transparent;\n",
              "    border-bottom-color: var(--fill-color);\n",
              "    animation:\n",
              "      spin 1s steps(1) infinite;\n",
              "  }\n",
              "\n",
              "  @keyframes spin {\n",
              "    0% {\n",
              "      border-color: transparent;\n",
              "      border-bottom-color: var(--fill-color);\n",
              "      border-left-color: var(--fill-color);\n",
              "    }\n",
              "    20% {\n",
              "      border-color: transparent;\n",
              "      border-left-color: var(--fill-color);\n",
              "      border-top-color: var(--fill-color);\n",
              "    }\n",
              "    30% {\n",
              "      border-color: transparent;\n",
              "      border-left-color: var(--fill-color);\n",
              "      border-top-color: var(--fill-color);\n",
              "      border-right-color: var(--fill-color);\n",
              "    }\n",
              "    40% {\n",
              "      border-color: transparent;\n",
              "      border-right-color: var(--fill-color);\n",
              "      border-top-color: var(--fill-color);\n",
              "    }\n",
              "    60% {\n",
              "      border-color: transparent;\n",
              "      border-right-color: var(--fill-color);\n",
              "    }\n",
              "    80% {\n",
              "      border-color: transparent;\n",
              "      border-right-color: var(--fill-color);\n",
              "      border-bottom-color: var(--fill-color);\n",
              "    }\n",
              "    90% {\n",
              "      border-color: transparent;\n",
              "      border-bottom-color: var(--fill-color);\n",
              "    }\n",
              "  }\n",
              "</style>\n",
              "\n",
              "      <script>\n",
              "        async function quickchart(key) {\n",
              "          const quickchartButtonEl =\n",
              "            document.querySelector('#' + key + ' button');\n",
              "          quickchartButtonEl.disabled = true;  // To prevent multiple clicks.\n",
              "          quickchartButtonEl.classList.add('colab-df-spinner');\n",
              "          try {\n",
              "            const charts = await google.colab.kernel.invokeFunction(\n",
              "                'suggestCharts', [key], {});\n",
              "          } catch (error) {\n",
              "            console.error('Error during call to suggestCharts:', error);\n",
              "          }\n",
              "          quickchartButtonEl.classList.remove('colab-df-spinner');\n",
              "          quickchartButtonEl.classList.add('colab-df-quickchart-complete');\n",
              "        }\n",
              "        (() => {\n",
              "          let quickchartButtonEl =\n",
              "            document.querySelector('#df-acd1a86f-d62c-4dc0-8f48-0428746828a1 button');\n",
              "          quickchartButtonEl.style.display =\n",
              "            google.colab.kernel.accessAllowed ? 'block' : 'none';\n",
              "        })();\n",
              "      </script>\n",
              "    </div>\n",
              "\n",
              "    </div>\n",
              "  </div>\n"
            ],
            "application/vnd.google.colaboratory.intrinsic+json": {
              "type": "dataframe",
              "summary": "{\n  \"name\": \"pd\",\n  \"rows\": 3,\n  \"fields\": [\n    {\n      \"column\": \"model\",\n      \"properties\": {\n        \"dtype\": \"string\",\n        \"num_unique_values\": 3,\n        \"samples\": [\n          \"log_loss\",\n          \"hinge\",\n          \"perceptron\"\n        ],\n        \"semantic_type\": \"\",\n        \"description\": \"\"\n      }\n    },\n    {\n      \"column\": \"Average Cross Validation\",\n      \"properties\": {\n        \"dtype\": \"number\",\n        \"std\": 0.01098908549425291,\n        \"min\": 0.8747,\n        \"max\": 0.8949,\n        \"num_unique_values\": 3,\n        \"samples\": [\n          0.8949,\n          0.8923,\n          0.8747\n        ],\n        \"semantic_type\": \"\",\n        \"description\": \"\"\n      }\n    },\n    {\n      \"column\": \"Average Bootstrap\",\n      \"properties\": {\n        \"dtype\": \"number\",\n        \"std\": 0.01608623113151088,\n        \"min\": 0.8732955582827816,\n        \"max\": 0.9037860524245968,\n        \"num_unique_values\": 3,\n        \"samples\": [\n          0.9037860524245968,\n          0.8974316895217639,\n          0.8732955582827816\n        ],\n        \"semantic_type\": \"\",\n        \"description\": \"\"\n      }\n    }\n  ]\n}"
            }
          },
          "metadata": {},
          "execution_count": 9
        }
      ]
    },
    {
      "cell_type": "code",
      "source": [
        "scores_df = pd.DataFrame(scores_list)\n",
        "\n",
        "# Restructure the data into a long format for displot\n",
        "bs_long = []\n",
        "for index, row in scores_df.iterrows():\n",
        "  for score in row['bs']:\n",
        "    bs_long.append({'model': row['model'], 'bs': score})\n",
        "\n",
        "bs_long_df = pd.DataFrame(bs_long)\n",
        "\n",
        "# Use sns to plot hinge, log and perceptron. Remember they are all stored in scores_list['bs']\n",
        "sns.displot(bs_long_df, x=\"bs\", hue=\"model\", kind=\"kde\")\n",
        "\n",
        "plt.title('SGD Classifiers using Bootstrap', size=16)\n",
        "plt.legend(title='Model', labels=['log_loss', 'hinge', 'perceptron'])\n",
        "plt.show()"
      ],
      "metadata": {
        "colab": {
          "base_uri": "https://localhost:8080/",
          "height": 531
        },
        "id": "g0VPd_4LYDwn",
        "outputId": "4c261cac-6ffa-4170-c44b-7cf6d4f72ba2"
      },
      "execution_count": 12,
      "outputs": [
        {
          "output_type": "display_data",
          "data": {
            "text/plain": [
              "<Figure size 626.125x500 with 1 Axes>"
            ],
            "image/png": "[encoded data removed]"
          },
          "metadata": {}
        }
      ]
    },
    {
      "cell_type": "markdown",
      "source": [
        "Finally, you will look at the importance of setting the regularization parameter. Create a database\n",
        "with only two informative features:\n",
        "\n",
        "`X, y = make_classification(n_samples=1000,n_features=2000, n_redundant=0, n_informative=2,random_state=1, n_clusters_per_class=1)`\n",
        "\n",
        "Train a regularized classifier using ‘log’ as the loss function. Try both types of regularization ‘l1’\n",
        "and ‘l2’ and sweep alpha over a range from: [0.0001,0.001,0.01,0.1,1,10,100,1000]. Use fivefold\n",
        "cross-validation to measure accuracy. Create a table of accuracy indexed by alpha, and use this\n",
        "table to plot the accuracy for both types of regularization. Your plot should look like this:"
      ],
      "metadata": {
        "id": "Odu_s7AsYMs2"
      }
    },
    {
      "cell_type": "code",
      "source": [
        "X, y = make_classification(n_samples=1000,n_features=2000, n_redundant=0, n_informative=2,random_state=1, n_clusters_per_class=1)"
      ],
      "metadata": {
        "id": "p_lIeVABYDy_"
      },
      "execution_count": null,
      "outputs": []
    },
    {
      "cell_type": "code",
      "source": [
        "alphas = [0.0001, 0.001, 0.01, 0.1, 1, 10, 100, 1000]\n",
        "results = []\n",
        "for a in alphas:\n",
        "  l1clf = SGDClassifier(loss=loss, penalty='l1', alpha=a).fit(X, y) #Classifier with loss='log', penalty='l1', alpha=a, Then fit it on X and y\n",
        "  l2clf = SGDClassifier(loss=loss, penalty='l2', alpha=a).fit(X, y) #Classifier with loss='log', penalty='l2', alpha=a, Then fit it on X and y\n",
        "  l1cv = cross_val_score(l1clf, X, y, cv=5,scoring='accuracy') # Compute cross_val_score for l1clf, cv=5, scoring='accuracy' and mean\n",
        "  l2cv = cross_val_score(l2clf, X, y, cv=5,scoring='accuracy') # Compute cross_val_score for l2clf, cv=5, scoring='accuracy' and mean\n",
        "  results.append({'alpha': a, 'log L1': l1cv, 'log L2': l2cv})"
      ],
      "metadata": {
        "id": "DKQYNQmCYD1g"
      },
      "execution_count": null,
      "outputs": []
    },
    {
      "cell_type": "markdown",
      "source": [
        "**Accuracy Table by alpha value**"
      ],
      "metadata": {
        "id": "iUNEoatDYZ_X"
      }
    },
    {
      "cell_type": "code",
      "source": [
        "df = pd.DataFrame(results)\n",
        "df['log L1'] = df['log L1'].apply(lambda x: x.mean())\n",
        "df['log L2'] = df['log L2'].apply(lambda x: x.mean())\n",
        "reg_df = df\n",
        "display(reg_df)"
      ],
      "metadata": {
        "colab": {
          "base_uri": "https://localhost:8080/",
          "height": 300
        },
        "id": "Sk3e_Aa3YD38",
        "outputId": "f3843594-265d-4f2f-e5d4-52bf3df7ecb6"
      },
      "execution_count": null,
      "outputs": [
        {
          "output_type": "display_data",
          "data": {
            "text/plain": [
              "       alpha  log L1  log L2\n",
              "0     0.0001   0.643   0.661\n",
              "1     0.0010   0.638   0.644\n",
              "2     0.0100   0.697   0.645\n",
              "3     0.1000   0.892   0.631\n",
              "4     1.0000   0.501   0.565\n",
              "5    10.0000   0.501   0.508\n",
              "6   100.0000   0.501   0.499\n",
              "7  1000.0000   0.503   0.499"
            ],
            "text/html": [
              "\n",
              "  <div id=\"df-31ab0fce-b4ca-4342-b09c-6b4eb71e0ed2\" class=\"colab-df-container\">\n",
              "    <div>\n",
              "<style scoped>\n",
              "    .dataframe tbody tr th:only-of-type {\n",
              "        vertical-align: middle;\n",
              "    }\n",
              "\n",
              "    .dataframe tbody tr th {\n",
              "        vertical-align: top;\n",
              "    }\n",
              "\n",
              "    .dataframe thead th {\n",
              "        text-align: right;\n",
              "    }\n",
              "</style>\n",
              "<table border=\"1\" class=\"dataframe\">\n",
              "  <thead>\n",
              "    <tr style=\"text-align: right;\">\n",
              "      <th></th>\n",
              "      <th>alpha</th>\n",
              "      <th>log L1</th>\n",
              "      <th>log L2</th>\n",
              "    </tr>\n",
              "  </thead>\n",
              "  <tbody>\n",
              "    <tr>\n",
              "      <th>0</th>\n",
              "      <td>0.0001</td>\n",
              "      <td>0.643</td>\n",
              "      <td>0.661</td>\n",
              "    </tr>\n",
              "    <tr>\n",
              "      <th>1</th>\n",
              "      <td>0.0010</td>\n",
              "      <td>0.638</td>\n",
              "      <td>0.644</td>\n",
              "    </tr>\n",
              "    <tr>\n",
              "      <th>2</th>\n",
              "      <td>0.0100</td>\n",
              "      <td>0.697</td>\n",
              "      <td>0.645</td>\n",
              "    </tr>\n",
              "    <tr>\n",
              "      <th>3</th>\n",
              "      <td>0.1000</td>\n",
              "      <td>0.892</td>\n",
              "      <td>0.631</td>\n",
              "    </tr>\n",
              "    <tr>\n",
              "      <th>4</th>\n",
              "      <td>1.0000</td>\n",
              "      <td>0.501</td>\n",
              "      <td>0.565</td>\n",
              "    </tr>\n",
              "    <tr>\n",
              "      <th>5</th>\n",
              "      <td>10.0000</td>\n",
              "      <td>0.501</td>\n",
              "      <td>0.508</td>\n",
              "    </tr>\n",
              "    <tr>\n",
              "      <th>6</th>\n",
              "      <td>100.0000</td>\n",
              "      <td>0.501</td>\n",
              "      <td>0.499</td>\n",
              "    </tr>\n",
              "    <tr>\n",
              "      <th>7</th>\n",
              "      <td>1000.0000</td>\n",
              "      <td>0.503</td>\n",
              "      <td>0.499</td>\n",
              "    </tr>\n",
              "  </tbody>\n",
              "</table>\n",
              "</div>\n",
              "    <div class=\"colab-df-buttons\">\n",
              "\n",
              "  <div class=\"colab-df-container\">\n",
              "    <button class=\"colab-df-convert\" onclick=\"convertToInteractive('df-31ab0fce-b4ca-4342-b09c-6b4eb71e0ed2')\"\n",
              "            title=\"Convert this dataframe to an interactive table.\"\n",
              "            style=\"display:none;\">\n",
              "\n",
              "  <svg xmlns=\"http://www.w3.org/2000/svg\" height=\"24px\" viewBox=\"0 -960 960 960\">\n",
              "    <path d=\"M120-120v-720h720v720H120Zm60-500h600v-160H180v160Zm220 220h160v-160H400v160Zm0 220h160v-160H400v160ZM180-400h160v-160H180v160Zm440 0h160v-160H620v160ZM180-180h160v-160H180v160Zm440 0h160v-160H620v160Z\"/>\n",
              "  </svg>\n",
              "    </button>\n",
              "\n",
              "  <style>\n",
              "    .colab-df-container {\n",
              "      display:flex;\n",
              "      gap: 12px;\n",
              "    }\n",
              "\n",
              "    .colab-df-convert {\n",
              "      background-color: #E8F0FE;\n",
              "      border: none;\n",
              "      border-radius: 50%;\n",
              "      cursor: pointer;\n",
              "      display: none;\n",
              "      fill: #1967D2;\n",
              "      height: 32px;\n",
              "      padding: 0 0 0 0;\n",
              "      width: 32px;\n",
              "    }\n",
              "\n",
              "    .colab-df-convert:hover {\n",
              "      background-color: #E2EBFA;\n",
              "      box-shadow: 0px 1px 2px rgba(60, 64, 67, 0.3), 0px 1px 3px 1px rgba(60, 64, 67, 0.15);\n",
              "      fill: #174EA6;\n",
              "    }\n",
              "\n",
              "    .colab-df-buttons div {\n",
              "      margin-bottom: 4px;\n",
              "    }\n",
              "\n",
              "    [theme=dark] .colab-df-convert {\n",
              "      background-color: #3B4455;\n",
              "      fill: #D2E3FC;\n",
              "    }\n",
              "\n",
              "    [theme=dark] .colab-df-convert:hover {\n",
              "      background-color: #434B5C;\n",
              "      box-shadow: 0px 1px 3px 1px rgba(0, 0, 0, 0.15);\n",
              "      filter: drop-shadow(0px 1px 2px rgba(0, 0, 0, 0.3));\n",
              "      fill: #FFFFFF;\n",
              "    }\n",
              "  </style>\n",
              "\n",
              "    <script>\n",
              "      const buttonEl =\n",
              "        document.querySelector('#df-31ab0fce-b4ca-4342-b09c-6b4eb71e0ed2 button.colab-df-convert');\n",
              "      buttonEl.style.display =\n",
              "        google.colab.kernel.accessAllowed ? 'block' : 'none';\n",
              "\n",
              "      async function convertToInteractive(key) {\n",
              "        const element = document.querySelector('#df-31ab0fce-b4ca-4342-b09c-6b4eb71e0ed2');\n",
              "        const dataTable =\n",
              "          await google.colab.kernel.invokeFunction('convertToInteractive',\n",
              "                                                    [key], {});\n",
              "        if (!dataTable) return;\n",
              "\n",
              "        const docLinkHtml = 'Like what you see? Visit the ' +\n",
              "          '<a target=\"_blank\" href=https://colab.research.google.com/notebooks/data_table.ipynb>data table notebook</a>'\n",
              "          + ' to learn more about interactive tables.';\n",
              "        element.innerHTML = '';\n",
              "        dataTable['output_type'] = 'display_data';\n",
              "        await google.colab.output.renderOutput(dataTable, element);\n",
              "        const docLink = document.createElement('div');\n",
              "        docLink.innerHTML = docLinkHtml;\n",
              "        element.appendChild(docLink);\n",
              "      }\n",
              "    </script>\n",
              "  </div>\n",
              "\n",
              "\n",
              "    <div id=\"df-38456344-ee65-49ed-92e8-9b29dbb7692a\">\n",
              "      <button class=\"colab-df-quickchart\" onclick=\"quickchart('df-38456344-ee65-49ed-92e8-9b29dbb7692a')\"\n",
              "                title=\"Suggest charts\"\n",
              "                style=\"display:none;\">\n",
              "\n",
              "<svg xmlns=\"http://www.w3.org/2000/svg\" height=\"24px\"viewBox=\"0 0 24 24\"\n",
              "     width=\"24px\">\n",
              "    <g>\n",
              "        <path d=\"M19 3H5c-1.1 0-2 .9-2 2v14c0 1.1.9 2 2 2h14c1.1 0 2-.9 2-2V5c0-1.1-.9-2-2-2zM9 17H7v-7h2v7zm4 0h-2V7h2v10zm4 0h-2v-4h2v4z\"/>\n",
              "    </g>\n",
              "</svg>\n",
              "      </button>\n",
              "\n",
              "<style>\n",
              "  .colab-df-quickchart {\n",
              "      --bg-color: #E8F0FE;\n",
              "      --fill-color: #1967D2;\n",
              "      --hover-bg-color: #E2EBFA;\n",
              "      --hover-fill-color: #174EA6;\n",
              "      --disabled-fill-color: #AAA;\n",
              "      --disabled-bg-color: #DDD;\n",
              "  }\n",
              "\n",
              "  [theme=dark] .colab-df-quickchart {\n",
              "      --bg-color: #3B4455;\n",
              "      --fill-color: #D2E3FC;\n",
              "      --hover-bg-color: #434B5C;\n",
              "      --hover-fill-color: #FFFFFF;\n",
              "      --disabled-bg-color: #3B4455;\n",
              "      --disabled-fill-color: #666;\n",
              "  }\n",
              "\n",
              "  .colab-df-quickchart {\n",
              "    background-color: var(--bg-color);\n",
              "    border: none;\n",
              "    border-radius: 50%;\n",
              "    cursor: pointer;\n",
              "    display: none;\n",
              "    fill: var(--fill-color);\n",
              "    height: 32px;\n",
              "    padding: 0;\n",
              "    width: 32px;\n",
              "  }\n",
              "\n",
              "  .colab-df-quickchart:hover {\n",
              "    background-color: var(--hover-bg-color);\n",
              "    box-shadow: 0 1px 2px rgba(60, 64, 67, 0.3), 0 1px 3px 1px rgba(60, 64, 67, 0.15);\n",
              "    fill: var(--button-hover-fill-color);\n",
              "  }\n",
              "\n",
              "  .colab-df-quickchart-complete:disabled,\n",
              "  .colab-df-quickchart-complete:disabled:hover {\n",
              "    background-color: var(--disabled-bg-color);\n",
              "    fill: var(--disabled-fill-color);\n",
              "    box-shadow: none;\n",
              "  }\n",
              "\n",
              "  .colab-df-spinner {\n",
              "    border: 2px solid var(--fill-color);\n",
              "    border-color: transparent;\n",
              "    border-bottom-color: var(--fill-color);\n",
              "    animation:\n",
              "      spin 1s steps(1) infinite;\n",
              "  }\n",
              "\n",
              "  @keyframes spin {\n",
              "    0% {\n",
              "      border-color: transparent;\n",
              "      border-bottom-color: var(--fill-color);\n",
              "      border-left-color: var(--fill-color);\n",
              "    }\n",
              "    20% {\n",
              "      border-color: transparent;\n",
              "      border-left-color: var(--fill-color);\n",
              "      border-top-color: var(--fill-color);\n",
              "    }\n",
              "    30% {\n",
              "      border-color: transparent;\n",
              "      border-left-color: var(--fill-color);\n",
              "      border-top-color: var(--fill-color);\n",
              "      border-right-color: var(--fill-color);\n",
              "    }\n",
              "    40% {\n",
              "      border-color: transparent;\n",
              "      border-right-color: var(--fill-color);\n",
              "      border-top-color: var(--fill-color);\n",
              "    }\n",
              "    60% {\n",
              "      border-color: transparent;\n",
              "      border-right-color: var(--fill-color);\n",
              "    }\n",
              "    80% {\n",
              "      border-color: transparent;\n",
              "      border-right-color: var(--fill-color);\n",
              "      border-bottom-color: var(--fill-color);\n",
              "    }\n",
              "    90% {\n",
              "      border-color: transparent;\n",
              "      border-bottom-color: var(--fill-color);\n",
              "    }\n",
              "  }\n",
              "</style>\n",
              "\n",
              "      <script>\n",
              "        async function quickchart(key) {\n",
              "          const quickchartButtonEl =\n",
              "            document.querySelector('#' + key + ' button');\n",
              "          quickchartButtonEl.disabled = true;  // To prevent multiple clicks.\n",
              "          quickchartButtonEl.classList.add('colab-df-spinner');\n",
              "          try {\n",
              "            const charts = await google.colab.kernel.invokeFunction(\n",
              "                'suggestCharts', [key], {});\n",
              "          } catch (error) {\n",
              "            console.error('Error during call to suggestCharts:', error);\n",
              "          }\n",
              "          quickchartButtonEl.classList.remove('colab-df-spinner');\n",
              "          quickchartButtonEl.classList.add('colab-df-quickchart-complete');\n",
              "        }\n",
              "        (() => {\n",
              "          let quickchartButtonEl =\n",
              "            document.querySelector('#df-38456344-ee65-49ed-92e8-9b29dbb7692a button');\n",
              "          quickchartButtonEl.style.display =\n",
              "            google.colab.kernel.accessAllowed ? 'block' : 'none';\n",
              "        })();\n",
              "      </script>\n",
              "    </div>\n",
              "\n",
              "  <div id=\"id_4aaff5cb-3fdc-4e6b-a76c-804d5c5a3424\">\n",
              "    <style>\n",
              "      .colab-df-generate {\n",
              "        background-color: #E8F0FE;\n",
              "        border: none;\n",
              "        border-radius: 50%;\n",
              "        cursor: pointer;\n",
              "        display: none;\n",
              "        fill: #1967D2;\n",
              "        height: 32px;\n",
              "        padding: 0 0 0 0;\n",
              "        width: 32px;\n",
              "      }\n",
              "\n",
              "      .colab-df-generate:hover {\n",
              "        background-color: #E2EBFA;\n",
              "        box-shadow: 0px 1px 2px rgba(60, 64, 67, 0.3), 0px 1px 3px 1px rgba(60, 64, 67, 0.15);\n",
              "        fill: #174EA6;\n",
              "      }\n",
              "\n",
              "      [theme=dark] .colab-df-generate {\n",
              "        background-color: #3B4455;\n",
              "        fill: #D2E3FC;\n",
              "      }\n",
              "\n",
              "      [theme=dark] .colab-df-generate:hover {\n",
              "        background-color: #434B5C;\n",
              "        box-shadow: 0px 1px 3px 1px rgba(0, 0, 0, 0.15);\n",
              "        filter: drop-shadow(0px 1px 2px rgba(0, 0, 0, 0.3));\n",
              "        fill: #FFFFFF;\n",
              "      }\n",
              "    </style>\n",
              "    <button class=\"colab-df-generate\" onclick=\"generateWithVariable('df')\"\n",
              "            title=\"Generate code using this dataframe.\"\n",
              "            style=\"display:none;\">\n",
              "\n",
              "  <svg xmlns=\"http://www.w3.org/2000/svg\" height=\"24px\"viewBox=\"0 0 24 24\"\n",
              "       width=\"24px\">\n",
              "    <path d=\"M7,19H8.4L18.45,9,17,7.55,7,17.6ZM5,21V16.75L18.45,3.32a2,2,0,0,1,2.83,0l1.4,1.43a1.91,1.91,0,0,1,.58,1.4,1.91,1.91,0,0,1-.58,1.4L9.25,21ZM18.45,9,17,7.55Zm-12,3A5.31,5.31,0,0,0,4.9,8.1,5.31,5.31,0,0,0,1,6.5,5.31,5.31,0,0,0,4.9,4.9,5.31,5.31,0,0,0,6.5,1,5.31,5.31,0,0,0,8.1,4.9,5.31,5.31,0,0,0,12,6.5,5.46,5.46,0,0,0,6.5,12Z\"/>\n",
              "  </svg>\n",
              "    </button>\n",
              "    <script>\n",
              "      (() => {\n",
              "      const buttonEl =\n",
              "        document.querySelector('#id_4aaff5cb-3fdc-4e6b-a76c-804d5c5a3424 button.colab-df-generate');\n",
              "      buttonEl.style.display =\n",
              "        google.colab.kernel.accessAllowed ? 'block' : 'none';\n",
              "\n",
              "      buttonEl.onclick = () => {\n",
              "        google.colab.notebook.generateWithVariable('df');\n",
              "      }\n",
              "      })();\n",
              "    </script>\n",
              "  </div>\n",
              "\n",
              "    </div>\n",
              "  </div>\n"
            ],
            "application/vnd.google.colaboratory.intrinsic+json": {
              "type": "dataframe",
              "variable_name": "df",
              "summary": "{\n  \"name\": \"df\",\n  \"rows\": 8,\n  \"fields\": [\n    {\n      \"column\": \"alpha\",\n      \"properties\": {\n        \"dtype\": \"number\",\n        \"std\": 349.6488086092568,\n        \"min\": 0.0001,\n        \"max\": 1000.0,\n        \"num_unique_values\": 8,\n        \"samples\": [\n          0.001,\n          10.0,\n          0.0001\n        ],\n        \"semantic_type\": \"\",\n        \"description\": \"\"\n      }\n    },\n    {\n      \"column\": \"log L1\",\n      \"properties\": {\n        \"dtype\": \"number\",\n        \"std\": 0.1394151047360774,\n        \"min\": 0.501,\n        \"max\": 0.892,\n        \"num_unique_values\": 6,\n        \"samples\": [\n          0.643,\n          0.638,\n          0.503\n        ],\n        \"semantic_type\": \"\",\n        \"description\": \"\"\n      }\n    },\n    {\n      \"column\": \"log L2\",\n      \"properties\": {\n        \"dtype\": \"number\",\n        \"std\": 0.0717097323540237,\n        \"min\": 0.499,\n        \"max\": 0.6609999999999999,\n        \"num_unique_values\": 7,\n        \"samples\": [\n          0.6609999999999999,\n          0.644,\n          0.508\n        ],\n        \"semantic_type\": \"\",\n        \"description\": \"\"\n      }\n    }\n  ]\n}"
            }
          },
          "metadata": {}
        }
      ]
    },
    {
      "cell_type": "markdown",
      "source": [
        "**L1/L2 Regularization Accuracy Plot**"
      ],
      "metadata": {
        "id": "rANlxPW2Yd_3"
      }
    },
    {
      "cell_type": "code",
      "source": [
        "# Use sns.lineplot for reg_df['alpha'] vs reg_df['log L2']\n",
        "sns.lineplot(x='alpha', y='log L2', data = reg_df)\n",
        "\n",
        "# Use sns.lineplot for reg_df['alpha'] vs reg_df['log L1']\n",
        "sns.lineplot(x='alpha', y='log L1', data = reg_df)\n",
        "\n",
        "# Add  appropriate legend and title\n",
        "plt.xscale('log')  # This sets the x-axis (alpha) to a log scale\n",
        "plt.title('L1/L2 Regularization Accuracy', size=16)\n",
        "plt.legend()\n",
        "plt.show()"
      ],
      "metadata": {
        "colab": {
          "base_uri": "https://localhost:8080/",
          "height": 533
        },
        "id": "RyYXH4eVYD5_",
        "outputId": "248bfd1c-4f6c-402c-8399-356e407cffef"
      },
      "execution_count": null,
      "outputs": [
        {
          "output_type": "stream",
          "name": "stderr",
          "text": [
            "/tmp/ipython-input-26-80771642.py:10: UserWarning: No artists with labels found to put in legend.  Note that artists whose label start with an underscore are ignored when legend() is called with no argument.\n",
            "  plt.legend()\n"
          ]
        },
        {
          "output_type": "display_data",
          "data": {
            "text/plain": [
              "<Figure size 640x480 with 1 Axes>"
            ],
            "image/png": "[encoded data removed]"
          },
          "metadata": {}
        }
      ]
    },
    {
      "cell_type": "markdown",
      "source": [
        "**3 Large Scale Linear Classification**\n",
        "Next, you will use data from a dataset of movie reviews. Unzip the data in aclImdb_v1.tar.\n",
        "\n",
        "There are several formats of data here, but one simple way to load the data into python is to load\n",
        "the files individually into a python list, and then use tfidfVectorizer to convert the reviews into bag\n",
        "of words feature files. Make sure to use pd.DataFrame.sparse.from_spmatrix to make a dataframe\n",
        "from the word features.\n",
        "Now, you will use fivefold cross-validation to look at the effect of the regularization penalty on\n",
        "accuracy. You should be able to simply adapt your code from the earlier section with simulated\n",
        "data to work on this real data. Note that due to the larger size of this text data, this section will\n",
        "take several minutes or more to run.\n",
        "\n",
        "for alpha in [0.00001,0.0001,0.001,0.01,0.1,1,10,100,1000]: for penalty in [‘l1’,‘l2’]\n",
        "\n",
        "**3.1 Download Dataset**\n",
        "\n",
        "https://ai.stanford.edu/~amaas/data/sentiment/aclImdb_v1.tar.gz\n",
        "Since you run the assignment on Google Colab, you don't need to bother extracting all the text\n",
        "files from the tarball. The following cells just reads all the filenames in a dataframe and you will have\n",
        "7\n",
        "code iterating the training and test files, reading the text into a list and appending labels into a\n",
        "dataframe and the dataframes are constructed."
      ],
      "metadata": {
        "id": "v7u_7lRIYinW"
      }
    },
    {
      "cell_type": "code",
      "source": [
        "import urllib.request\n",
        "# Download tar.gz file\n",
        "urllib.request.urlretrieve('https://ai.stanford.edu/~amaas/data/sentiment/aclImdb_v1.tar.gz', 'aclImdb_v1.tar.gz')"
      ],
      "metadata": {
        "colab": {
          "base_uri": "https://localhost:8080/"
        },
        "id": "OxFdlz0yYe83",
        "outputId": "3d26eba3-ed9a-4cc3-b83c-547154ddf620"
      },
      "execution_count": null,
      "outputs": [
        {
          "output_type": "execute_result",
          "data": {
            "text/plain": [
              "('aclImdb_v1.tar.gz', <http.client.HTTPMessage at 0x7bd71dc26a50>)"
            ]
          },
          "metadata": {},
          "execution_count": 17
        }
      ]
    },
    {
      "cell_type": "code",
      "source": [
        "tar = tarfile.open(\"aclImdb_v1.tar.gz\", \"r:gz\")\n",
        "file_df = pd.DataFrame([m.name for m in tar.getmembers()], columns=['filename'])\n",
        "# Paths\n",
        "train_neg = 'aclImdb/train/neg/'\n",
        "train_pos = 'aclImdb/train/pos/'\n",
        "test_neg = 'aclImdb/test/neg/'\n",
        "test_pos = 'aclImdb/test/pos/'"
      ],
      "metadata": {
        "id": "602sxhBVYe_W"
      },
      "execution_count": null,
      "outputs": []
    },
    {
      "cell_type": "markdown",
      "source": [
        "**Training Dataset**"
      ],
      "metadata": {
        "id": "N-umGLJ4Y3ye"
      }
    },
    {
      "cell_type": "code",
      "source": [
        "# This part of code creates train data\n",
        "# Running this part takes quite some time\n",
        "files = file_df[file_df['filename'].str.startswith(train_neg)]['filename'].tolist()\n",
        "neglist = []\n",
        "for file in files:\n",
        "  f = tar.extractfile(file)\n",
        "  if f is not None:\n",
        "    neglist.append(f.read().decode(\"utf-8\"))\n",
        "files = file_df[file_df['filename'].str.startswith(train_pos)]['filename'].tolist()\n",
        "poslist = []\n",
        "for file in files:\n",
        "  f = tar.extractfile(file)\n",
        "  if f is not None:\n",
        "    poslist.append(f.read().decode(\"utf-8\"))\n",
        "train_neg_df = pd.DataFrame(list(zip(neglist, np.zeros(len(neglist)))),columns=['text', 'labels'])\n",
        "train_pos_df = pd.DataFrame(list(zip(poslist, np.ones(len(poslist)))),columns=['text', 'labels'])\n",
        "training = pd.concat([train_neg_df, train_pos_df], ignore_index=True)"
      ],
      "metadata": {
        "id": "OV5RUQYRYfCf"
      },
      "execution_count": null,
      "outputs": []
    },
    {
      "cell_type": "code",
      "source": [
        "training.head()"
      ],
      "metadata": {
        "id": "kzVK17TjYD9_",
        "colab": {
          "base_uri": "https://localhost:8080/",
          "height": 206
        },
        "outputId": "4ef99d78-ac69-449d-ec4d-9f8903580afa"
      },
      "execution_count": null,
      "outputs": [
        {
          "output_type": "execute_result",
          "data": {
            "text/plain": [
              "                                                text  labels\n",
              "0  I rented I AM CURIOUS-YELLOW from my video sto...     0.0\n",
              "1  \"I Am Curious: Yellow\" is a risible and preten...     0.0\n",
              "2  If only to avoid making this type of film in t...     0.0\n",
              "3  This film was probably inspired by Godard's Ma...     0.0\n",
              "4  Oh, brother...after hearing about this ridicul...     0.0"
            ],
            "text/html": [
              "\n",
              "  <div id=\"df-2dcc8bdf-2c95-4f09-9ab5-e21ae1068c68\" class=\"colab-df-container\">\n",
              "    <div>\n",
              "<style scoped>\n",
              "    .dataframe tbody tr th:only-of-type {\n",
              "        vertical-align: middle;\n",
              "    }\n",
              "\n",
              "    .dataframe tbody tr th {\n",
              "        vertical-align: top;\n",
              "    }\n",
              "\n",
              "    .dataframe thead th {\n",
              "        text-align: right;\n",
              "    }\n",
              "</style>\n",
              "<table border=\"1\" class=\"dataframe\">\n",
              "  <thead>\n",
              "    <tr style=\"text-align: right;\">\n",
              "      <th></th>\n",
              "      <th>text</th>\n",
              "      <th>labels</th>\n",
              "    </tr>\n",
              "  </thead>\n",
              "  <tbody>\n",
              "    <tr>\n",
              "      <th>0</th>\n",
              "      <td>I rented I AM CURIOUS-YELLOW from my video sto...</td>\n",
              "      <td>0.0</td>\n",
              "    </tr>\n",
              "    <tr>\n",
              "      <th>1</th>\n",
              "      <td>\"I Am Curious: Yellow\" is a risible and preten...</td>\n",
              "      <td>0.0</td>\n",
              "    </tr>\n",
              "    <tr>\n",
              "      <th>2</th>\n",
              "      <td>If only to avoid making this type of film in t...</td>\n",
              "      <td>0.0</td>\n",
              "    </tr>\n",
              "    <tr>\n",
              "      <th>3</th>\n",
              "      <td>This film was probably inspired by Godard's Ma...</td>\n",
              "      <td>0.0</td>\n",
              "    </tr>\n",
              "    <tr>\n",
              "      <th>4</th>\n",
              "      <td>Oh, brother...after hearing about this ridicul...</td>\n",
              "      <td>0.0</td>\n",
              "    </tr>\n",
              "  </tbody>\n",
              "</table>\n",
              "</div>\n",
              "    <div class=\"colab-df-buttons\">\n",
              "\n",
              "  <div class=\"colab-df-container\">\n",
              "    <button class=\"colab-df-convert\" onclick=\"convertToInteractive('df-2dcc8bdf-2c95-4f09-9ab5-e21ae1068c68')\"\n",
              "            title=\"Convert this dataframe to an interactive table.\"\n",
              "            style=\"display:none;\">\n",
              "\n",
              "  <svg xmlns=\"http://www.w3.org/2000/svg\" height=\"24px\" viewBox=\"0 -960 960 960\">\n",
              "    <path d=\"M120-120v-720h720v720H120Zm60-500h600v-160H180v160Zm220 220h160v-160H400v160Zm0 220h160v-160H400v160ZM180-400h160v-160H180v160Zm440 0h160v-160H620v160ZM180-180h160v-160H180v160Zm440 0h160v-160H620v160Z\"/>\n",
              "  </svg>\n",
              "    </button>\n",
              "\n",
              "  <style>\n",
              "    .colab-df-container {\n",
              "      display:flex;\n",
              "      gap: 12px;\n",
              "    }\n",
              "\n",
              "    .colab-df-convert {\n",
              "      background-color: #E8F0FE;\n",
              "      border: none;\n",
              "      border-radius: 50%;\n",
              "      cursor: pointer;\n",
              "      display: none;\n",
              "      fill: #1967D2;\n",
              "      height: 32px;\n",
              "      padding: 0 0 0 0;\n",
              "      width: 32px;\n",
              "    }\n",
              "\n",
              "    .colab-df-convert:hover {\n",
              "      background-color: #E2EBFA;\n",
              "      box-shadow: 0px 1px 2px rgba(60, 64, 67, 0.3), 0px 1px 3px 1px rgba(60, 64, 67, 0.15);\n",
              "      fill: #174EA6;\n",
              "    }\n",
              "\n",
              "    .colab-df-buttons div {\n",
              "      margin-bottom: 4px;\n",
              "    }\n",
              "\n",
              "    [theme=dark] .colab-df-convert {\n",
              "      background-color: #3B4455;\n",
              "      fill: #D2E3FC;\n",
              "    }\n",
              "\n",
              "    [theme=dark] .colab-df-convert:hover {\n",
              "      background-color: #434B5C;\n",
              "      box-shadow: 0px 1px 3px 1px rgba(0, 0, 0, 0.15);\n",
              "      filter: drop-shadow(0px 1px 2px rgba(0, 0, 0, 0.3));\n",
              "      fill: #FFFFFF;\n",
              "    }\n",
              "  </style>\n",
              "\n",
              "    <script>\n",
              "      const buttonEl =\n",
              "        document.querySelector('#df-2dcc8bdf-2c95-4f09-9ab5-e21ae1068c68 button.colab-df-convert');\n",
              "      buttonEl.style.display =\n",
              "        google.colab.kernel.accessAllowed ? 'block' : 'none';\n",
              "\n",
              "      async function convertToInteractive(key) {\n",
              "        const element = document.querySelector('#df-2dcc8bdf-2c95-4f09-9ab5-e21ae1068c68');\n",
              "        const dataTable =\n",
              "          await google.colab.kernel.invokeFunction('convertToInteractive',\n",
              "                                                    [key], {});\n",
              "        if (!dataTable) return;\n",
              "\n",
              "        const docLinkHtml = 'Like what you see? Visit the ' +\n",
              "          '<a target=\"_blank\" href=https://colab.research.google.com/notebooks/data_table.ipynb>data table notebook</a>'\n",
              "          + ' to learn more about interactive tables.';\n",
              "        element.innerHTML = '';\n",
              "        dataTable['output_type'] = 'display_data';\n",
              "        await google.colab.output.renderOutput(dataTable, element);\n",
              "        const docLink = document.createElement('div');\n",
              "        docLink.innerHTML = docLinkHtml;\n",
              "        element.appendChild(docLink);\n",
              "      }\n",
              "    </script>\n",
              "  </div>\n",
              "\n",
              "\n",
              "    <div id=\"df-1a198e26-5f5c-4b9d-8c39-b11982a0c064\">\n",
              "      <button class=\"colab-df-quickchart\" onclick=\"quickchart('df-1a198e26-5f5c-4b9d-8c39-b11982a0c064')\"\n",
              "                title=\"Suggest charts\"\n",
              "                style=\"display:none;\">\n",
              "\n",
              "<svg xmlns=\"http://www.w3.org/2000/svg\" height=\"24px\"viewBox=\"0 0 24 24\"\n",
              "     width=\"24px\">\n",
              "    <g>\n",
              "        <path d=\"M19 3H5c-1.1 0-2 .9-2 2v14c0 1.1.9 2 2 2h14c1.1 0 2-.9 2-2V5c0-1.1-.9-2-2-2zM9 17H7v-7h2v7zm4 0h-2V7h2v10zm4 0h-2v-4h2v4z\"/>\n",
              "    </g>\n",
              "</svg>\n",
              "      </button>\n",
              "\n",
              "<style>\n",
              "  .colab-df-quickchart {\n",
              "      --bg-color: #E8F0FE;\n",
              "      --fill-color: #1967D2;\n",
              "      --hover-bg-color: #E2EBFA;\n",
              "      --hover-fill-color: #174EA6;\n",
              "      --disabled-fill-color: #AAA;\n",
              "      --disabled-bg-color: #DDD;\n",
              "  }\n",
              "\n",
              "  [theme=dark] .colab-df-quickchart {\n",
              "      --bg-color: #3B4455;\n",
              "      --fill-color: #D2E3FC;\n",
              "      --hover-bg-color: #434B5C;\n",
              "      --hover-fill-color: #FFFFFF;\n",
              "      --disabled-bg-color: #3B4455;\n",
              "      --disabled-fill-color: #666;\n",
              "  }\n",
              "\n",
              "  .colab-df-quickchart {\n",
              "    background-color: var(--bg-color);\n",
              "    border: none;\n",
              "    border-radius: 50%;\n",
              "    cursor: pointer;\n",
              "    display: none;\n",
              "    fill: var(--fill-color);\n",
              "    height: 32px;\n",
              "    padding: 0;\n",
              "    width: 32px;\n",
              "  }\n",
              "\n",
              "  .colab-df-quickchart:hover {\n",
              "    background-color: var(--hover-bg-color);\n",
              "    box-shadow: 0 1px 2px rgba(60, 64, 67, 0.3), 0 1px 3px 1px rgba(60, 64, 67, 0.15);\n",
              "    fill: var(--button-hover-fill-color);\n",
              "  }\n",
              "\n",
              "  .colab-df-quickchart-complete:disabled,\n",
              "  .colab-df-quickchart-complete:disabled:hover {\n",
              "    background-color: var(--disabled-bg-color);\n",
              "    fill: var(--disabled-fill-color);\n",
              "    box-shadow: none;\n",
              "  }\n",
              "\n",
              "  .colab-df-spinner {\n",
              "    border: 2px solid var(--fill-color);\n",
              "    border-color: transparent;\n",
              "    border-bottom-color: var(--fill-color);\n",
              "    animation:\n",
              "      spin 1s steps(1) infinite;\n",
              "  }\n",
              "\n",
              "  @keyframes spin {\n",
              "    0% {\n",
              "      border-color: transparent;\n",
              "      border-bottom-color: var(--fill-color);\n",
              "      border-left-color: var(--fill-color);\n",
              "    }\n",
              "    20% {\n",
              "      border-color: transparent;\n",
              "      border-left-color: var(--fill-color);\n",
              "      border-top-color: var(--fill-color);\n",
              "    }\n",
              "    30% {\n",
              "      border-color: transparent;\n",
              "      border-left-color: var(--fill-color);\n",
              "      border-top-color: var(--fill-color);\n",
              "      border-right-color: var(--fill-color);\n",
              "    }\n",
              "    40% {\n",
              "      border-color: transparent;\n",
              "      border-right-color: var(--fill-color);\n",
              "      border-top-color: var(--fill-color);\n",
              "    }\n",
              "    60% {\n",
              "      border-color: transparent;\n",
              "      border-right-color: var(--fill-color);\n",
              "    }\n",
              "    80% {\n",
              "      border-color: transparent;\n",
              "      border-right-color: var(--fill-color);\n",
              "      border-bottom-color: var(--fill-color);\n",
              "    }\n",
              "    90% {\n",
              "      border-color: transparent;\n",
              "      border-bottom-color: var(--fill-color);\n",
              "    }\n",
              "  }\n",
              "</style>\n",
              "\n",
              "      <script>\n",
              "        async function quickchart(key) {\n",
              "          const quickchartButtonEl =\n",
              "            document.querySelector('#' + key + ' button');\n",
              "          quickchartButtonEl.disabled = true;  // To prevent multiple clicks.\n",
              "          quickchartButtonEl.classList.add('colab-df-spinner');\n",
              "          try {\n",
              "            const charts = await google.colab.kernel.invokeFunction(\n",
              "                'suggestCharts', [key], {});\n",
              "          } catch (error) {\n",
              "            console.error('Error during call to suggestCharts:', error);\n",
              "          }\n",
              "          quickchartButtonEl.classList.remove('colab-df-spinner');\n",
              "          quickchartButtonEl.classList.add('colab-df-quickchart-complete');\n",
              "        }\n",
              "        (() => {\n",
              "          let quickchartButtonEl =\n",
              "            document.querySelector('#df-1a198e26-5f5c-4b9d-8c39-b11982a0c064 button');\n",
              "          quickchartButtonEl.style.display =\n",
              "            google.colab.kernel.accessAllowed ? 'block' : 'none';\n",
              "        })();\n",
              "      </script>\n",
              "    </div>\n",
              "\n",
              "    </div>\n",
              "  </div>\n"
            ],
            "application/vnd.google.colaboratory.intrinsic+json": {
              "type": "dataframe",
              "variable_name": "training",
              "summary": "{\n  \"name\": \"training\",\n  \"rows\": 25000,\n  \"fields\": [\n    {\n      \"column\": \"text\",\n      \"properties\": {\n        \"dtype\": \"string\",\n        \"num_unique_values\": 24904,\n        \"samples\": [\n          \"Although I didn't like Stanley & Iris tremendously as a film, I did admire the acting. Jane Fonda and Robert De Niro are great in this movie. I haven't always been a fan of Fonda's work but here she is delicate and strong at the same time. De Niro has the ability to make every role he portrays into acting gold. He gives a great performance in this film and there is a great scene where he has to take his father to a home for elderly people because he can't care for him anymore that will break your heart. I wouldn't really recommend this film as a great cinematic entertainment, but I will say you won't see much bette acting anywhere.\",\n          \"Yet again one of the most misunderstood Goddesses of my country has been twisted by \\\"Westerners\\\" who cannot understand the esoteric symbolism of the Mother Goddess in her dark forms. The Mother takes on the frightening form of Kali Mata to destroy our inner demons, and to terrify our egos. And though blood sacrifice is given to Kali and Durga, the events depicted in this film are just absurd. The Mother takes on a wrathful form to be wrathful to our inner demons, limitations, and ego when no other form will suffice. It's also in her wrathful form that she burns away all your Karmas in the \\\"Smashan\\\" fires that you cultivate in your heart for her to dance on if you love her, and she will bring you to reality and truth. Reality and truth has a dark side as well as light, which serves a purpose. The Mother is the embodiment of the physical Universe as well, she is Nature. Nature can be cruel and destructive to maintain balance. You cannot have growth and life without death and destruction. Kali represents the force of destruction for the purpose of new growth and life both mundane and spiritual in the universe. It's very outrageous to me that people who know nothing of India or it's divinity can just take one of our beloved Goddesses and use her like a cheap prostitute to make some low-budget, talentless horror film. How dare they take our beloved Mother and portray her as a horror that makes people chop their eyelids off!? She is only horrific to those who are attached to their ego and who live in delusion , greed, anger, and other inner-demons. It's very clear to me that the person who wrote this movie must have a very serious self-deluding ego, and serious inner-demons to see Kali as so horrible and terrible. When the ego drops away she becomes a form that is enchanting, beautiful, and young, a beauty that is so enchanting to behold that she enchants the entire Universe with it. Kali Maa is an ancient Mother, not to be trifled with for the sake of entertainment, let's just hope that in her endless compassion and mercy that she does not take on wrathful form to those involved with this movie.<br /><br />The audacity that Westerners have in using religions like my own, or the religions of the Caribbean Islands such as Santeria, and Vodou which are actually very positive, and other such religions to twist and exaggerate misunderstood elements that the Western mind cannot comprehend, is totally ridiculous. It's clear that there is no respect for what people live, breathe and believe in when it comes to these kind of flicks.<br /><br />Kali Maa in reality is a caring and compassionate mother, whom we shed tears at her beautiful feet in devotion and love for. And I am happy that my Mother takes on wrathful form sometimes to protect her devotees from themselves and from outside forces.<br /><br />Many Praises to the REAL Kali Maa, who has shown MANY the path of God and realization.\",\n          \"Paris is the place to be to enjoy beautiful art and music, and to fall madly in love - as is the case in this film. Boy meets girl, they fall in love, but something stands in their way of eternal happiness, the classic story.<br /><br />The wonderful music of George Gerschwin complements the great dancing by Gene Kelly and Leslie Caron. \\\"An American in Paris\\\" is a humorous, light-hearted, loving film well worth watching.<br /><br />8/10<br /><br />\"\n        ],\n        \"semantic_type\": \"\",\n        \"description\": \"\"\n      }\n    },\n    {\n      \"column\": \"labels\",\n      \"properties\": {\n        \"dtype\": \"number\",\n        \"std\": 0.50001000030001,\n        \"min\": 0.0,\n        \"max\": 1.0,\n        \"num_unique_values\": 2,\n        \"samples\": [\n          1.0,\n          0.0\n        ],\n        \"semantic_type\": \"\",\n        \"description\": \"\"\n      }\n    }\n  ]\n}"
            }
          },
          "metadata": {},
          "execution_count": 20
        }
      ]
    },
    {
      "cell_type": "markdown",
      "source": [
        "**Test Dataset**"
      ],
      "metadata": {
        "id": "Zk-7aVrcZKU1"
      }
    },
    {
      "cell_type": "code",
      "source": [
        "# Use similar strategy to create testing data\n",
        "# Running this part takes quite some time\n",
        "files_test = file_df[file_df['filename'].str.startswith(test_neg)]['filename'].tolist()\n",
        "neglist_test = []\n",
        "for file in files:\n",
        "  f = tar.extractfile(file)\n",
        "  if f is not None:\n",
        "    neglist_test.append(f.read().decode(\"utf-8\"))\n",
        "files_test = file_df[file_df['filename'].str.startswith(test_pos)]['filename'].tolist()\n",
        "poslist_test = []\n",
        "for file in files_test:\n",
        "  f = tar.extractfile(file)\n",
        "  if f is not None:\n",
        "    poslist.append(f.read().decode(\"utf-8\"))\n",
        "test_neg_df = pd.DataFrame(list(zip(neglist_test, np.zeros(len(neglist_test)))),columns=['text', 'labels'])\n",
        "test_pos_df = pd.DataFrame(list(zip(poslist_test, np.ones(len(poslist_test)))),columns=['text', 'labels'])\n",
        "test = pd.concat([test_neg_df, test_pos_df], ignore_index=True)"
      ],
      "metadata": {
        "id": "zzaGk6K7ZIpl"
      },
      "execution_count": null,
      "outputs": []
    },
    {
      "cell_type": "code",
      "source": [
        "test.head()"
      ],
      "metadata": {
        "id": "2y4orC-IZIr-",
        "colab": {
          "base_uri": "https://localhost:8080/",
          "height": 206
        },
        "outputId": "32abe411-16f7-466a-ccc6-0409c21394ee"
      },
      "execution_count": null,
      "outputs": [
        {
          "output_type": "execute_result",
          "data": {
            "text/plain": [
              "                                                text  labels\n",
              "0  Zentropa has much in common with The Third Man...     0.0\n",
              "1  Zentropa is the most original movie I've seen ...     0.0\n",
              "2  Lars Von Trier is never backward in trying out...     0.0\n",
              "3  *Contains spoilers due to me having to describ...     0.0\n",
              "4  That was the first thing that sprang to mind a...     0.0"
            ],
            "text/html": [
              "\n",
              "  <div id=\"df-5e8806f5-a678-46f0-a5a4-995455d7e1e0\" class=\"colab-df-container\">\n",
              "    <div>\n",
              "<style scoped>\n",
              "    .dataframe tbody tr th:only-of-type {\n",
              "        vertical-align: middle;\n",
              "    }\n",
              "\n",
              "    .dataframe tbody tr th {\n",
              "        vertical-align: top;\n",
              "    }\n",
              "\n",
              "    .dataframe thead th {\n",
              "        text-align: right;\n",
              "    }\n",
              "</style>\n",
              "<table border=\"1\" class=\"dataframe\">\n",
              "  <thead>\n",
              "    <tr style=\"text-align: right;\">\n",
              "      <th></th>\n",
              "      <th>text</th>\n",
              "      <th>labels</th>\n",
              "    </tr>\n",
              "  </thead>\n",
              "  <tbody>\n",
              "    <tr>\n",
              "      <th>0</th>\n",
              "      <td>Zentropa has much in common with The Third Man...</td>\n",
              "      <td>0.0</td>\n",
              "    </tr>\n",
              "    <tr>\n",
              "      <th>1</th>\n",
              "      <td>Zentropa is the most original movie I've seen ...</td>\n",
              "      <td>0.0</td>\n",
              "    </tr>\n",
              "    <tr>\n",
              "      <th>2</th>\n",
              "      <td>Lars Von Trier is never backward in trying out...</td>\n",
              "      <td>0.0</td>\n",
              "    </tr>\n",
              "    <tr>\n",
              "      <th>3</th>\n",
              "      <td>*Contains spoilers due to me having to describ...</td>\n",
              "      <td>0.0</td>\n",
              "    </tr>\n",
              "    <tr>\n",
              "      <th>4</th>\n",
              "      <td>That was the first thing that sprang to mind a...</td>\n",
              "      <td>0.0</td>\n",
              "    </tr>\n",
              "  </tbody>\n",
              "</table>\n",
              "</div>\n",
              "    <div class=\"colab-df-buttons\">\n",
              "\n",
              "  <div class=\"colab-df-container\">\n",
              "    <button class=\"colab-df-convert\" onclick=\"convertToInteractive('df-5e8806f5-a678-46f0-a5a4-995455d7e1e0')\"\n",
              "            title=\"Convert this dataframe to an interactive table.\"\n",
              "            style=\"display:none;\">\n",
              "\n",
              "  <svg xmlns=\"http://www.w3.org/2000/svg\" height=\"24px\" viewBox=\"0 -960 960 960\">\n",
              "    <path d=\"M120-120v-720h720v720H120Zm60-500h600v-160H180v160Zm220 220h160v-160H400v160Zm0 220h160v-160H400v160ZM180-400h160v-160H180v160Zm440 0h160v-160H620v160ZM180-180h160v-160H180v160Zm440 0h160v-160H620v160Z\"/>\n",
              "  </svg>\n",
              "    </button>\n",
              "\n",
              "  <style>\n",
              "    .colab-df-container {\n",
              "      display:flex;\n",
              "      gap: 12px;\n",
              "    }\n",
              "\n",
              "    .colab-df-convert {\n",
              "      background-color: #E8F0FE;\n",
              "      border: none;\n",
              "      border-radius: 50%;\n",
              "      cursor: pointer;\n",
              "      display: none;\n",
              "      fill: #1967D2;\n",
              "      height: 32px;\n",
              "      padding: 0 0 0 0;\n",
              "      width: 32px;\n",
              "    }\n",
              "\n",
              "    .colab-df-convert:hover {\n",
              "      background-color: #E2EBFA;\n",
              "      box-shadow: 0px 1px 2px rgba(60, 64, 67, 0.3), 0px 1px 3px 1px rgba(60, 64, 67, 0.15);\n",
              "      fill: #174EA6;\n",
              "    }\n",
              "\n",
              "    .colab-df-buttons div {\n",
              "      margin-bottom: 4px;\n",
              "    }\n",
              "\n",
              "    [theme=dark] .colab-df-convert {\n",
              "      background-color: #3B4455;\n",
              "      fill: #D2E3FC;\n",
              "    }\n",
              "\n",
              "    [theme=dark] .colab-df-convert:hover {\n",
              "      background-color: #434B5C;\n",
              "      box-shadow: 0px 1px 3px 1px rgba(0, 0, 0, 0.15);\n",
              "      filter: drop-shadow(0px 1px 2px rgba(0, 0, 0, 0.3));\n",
              "      fill: #FFFFFF;\n",
              "    }\n",
              "  </style>\n",
              "\n",
              "    <script>\n",
              "      const buttonEl =\n",
              "        document.querySelector('#df-5e8806f5-a678-46f0-a5a4-995455d7e1e0 button.colab-df-convert');\n",
              "      buttonEl.style.display =\n",
              "        google.colab.kernel.accessAllowed ? 'block' : 'none';\n",
              "\n",
              "      async function convertToInteractive(key) {\n",
              "        const element = document.querySelector('#df-5e8806f5-a678-46f0-a5a4-995455d7e1e0');\n",
              "        const dataTable =\n",
              "          await google.colab.kernel.invokeFunction('convertToInteractive',\n",
              "                                                    [key], {});\n",
              "        if (!dataTable) return;\n",
              "\n",
              "        const docLinkHtml = 'Like what you see? Visit the ' +\n",
              "          '<a target=\"_blank\" href=https://colab.research.google.com/notebooks/data_table.ipynb>data table notebook</a>'\n",
              "          + ' to learn more about interactive tables.';\n",
              "        element.innerHTML = '';\n",
              "        dataTable['output_type'] = 'display_data';\n",
              "        await google.colab.output.renderOutput(dataTable, element);\n",
              "        const docLink = document.createElement('div');\n",
              "        docLink.innerHTML = docLinkHtml;\n",
              "        element.appendChild(docLink);\n",
              "      }\n",
              "    </script>\n",
              "  </div>\n",
              "\n",
              "\n",
              "    <div id=\"df-f0f96e4e-5599-4bfd-9b62-78101e516acb\">\n",
              "      <button class=\"colab-df-quickchart\" onclick=\"quickchart('df-f0f96e4e-5599-4bfd-9b62-78101e516acb')\"\n",
              "                title=\"Suggest charts\"\n",
              "                style=\"display:none;\">\n",
              "\n",
              "<svg xmlns=\"http://www.w3.org/2000/svg\" height=\"24px\"viewBox=\"0 0 24 24\"\n",
              "     width=\"24px\">\n",
              "    <g>\n",
              "        <path d=\"M19 3H5c-1.1 0-2 .9-2 2v14c0 1.1.9 2 2 2h14c1.1 0 2-.9 2-2V5c0-1.1-.9-2-2-2zM9 17H7v-7h2v7zm4 0h-2V7h2v10zm4 0h-2v-4h2v4z\"/>\n",
              "    </g>\n",
              "</svg>\n",
              "      </button>\n",
              "\n",
              "<style>\n",
              "  .colab-df-quickchart {\n",
              "      --bg-color: #E8F0FE;\n",
              "      --fill-color: #1967D2;\n",
              "      --hover-bg-color: #E2EBFA;\n",
              "      --hover-fill-color: #174EA6;\n",
              "      --disabled-fill-color: #AAA;\n",
              "      --disabled-bg-color: #DDD;\n",
              "  }\n",
              "\n",
              "  [theme=dark] .colab-df-quickchart {\n",
              "      --bg-color: #3B4455;\n",
              "      --fill-color: #D2E3FC;\n",
              "      --hover-bg-color: #434B5C;\n",
              "      --hover-fill-color: #FFFFFF;\n",
              "      --disabled-bg-color: #3B4455;\n",
              "      --disabled-fill-color: #666;\n",
              "  }\n",
              "\n",
              "  .colab-df-quickchart {\n",
              "    background-color: var(--bg-color);\n",
              "    border: none;\n",
              "    border-radius: 50%;\n",
              "    cursor: pointer;\n",
              "    display: none;\n",
              "    fill: var(--fill-color);\n",
              "    height: 32px;\n",
              "    padding: 0;\n",
              "    width: 32px;\n",
              "  }\n",
              "\n",
              "  .colab-df-quickchart:hover {\n",
              "    background-color: var(--hover-bg-color);\n",
              "    box-shadow: 0 1px 2px rgba(60, 64, 67, 0.3), 0 1px 3px 1px rgba(60, 64, 67, 0.15);\n",
              "    fill: var(--button-hover-fill-color);\n",
              "  }\n",
              "\n",
              "  .colab-df-quickchart-complete:disabled,\n",
              "  .colab-df-quickchart-complete:disabled:hover {\n",
              "    background-color: var(--disabled-bg-color);\n",
              "    fill: var(--disabled-fill-color);\n",
              "    box-shadow: none;\n",
              "  }\n",
              "\n",
              "  .colab-df-spinner {\n",
              "    border: 2px solid var(--fill-color);\n",
              "    border-color: transparent;\n",
              "    border-bottom-color: var(--fill-color);\n",
              "    animation:\n",
              "      spin 1s steps(1) infinite;\n",
              "  }\n",
              "\n",
              "  @keyframes spin {\n",
              "    0% {\n",
              "      border-color: transparent;\n",
              "      border-bottom-color: var(--fill-color);\n",
              "      border-left-color: var(--fill-color);\n",
              "    }\n",
              "    20% {\n",
              "      border-color: transparent;\n",
              "      border-left-color: var(--fill-color);\n",
              "      border-top-color: var(--fill-color);\n",
              "    }\n",
              "    30% {\n",
              "      border-color: transparent;\n",
              "      border-left-color: var(--fill-color);\n",
              "      border-top-color: var(--fill-color);\n",
              "      border-right-color: var(--fill-color);\n",
              "    }\n",
              "    40% {\n",
              "      border-color: transparent;\n",
              "      border-right-color: var(--fill-color);\n",
              "      border-top-color: var(--fill-color);\n",
              "    }\n",
              "    60% {\n",
              "      border-color: transparent;\n",
              "      border-right-color: var(--fill-color);\n",
              "    }\n",
              "    80% {\n",
              "      border-color: transparent;\n",
              "      border-right-color: var(--fill-color);\n",
              "      border-bottom-color: var(--fill-color);\n",
              "    }\n",
              "    90% {\n",
              "      border-color: transparent;\n",
              "      border-bottom-color: var(--fill-color);\n",
              "    }\n",
              "  }\n",
              "</style>\n",
              "\n",
              "      <script>\n",
              "        async function quickchart(key) {\n",
              "          const quickchartButtonEl =\n",
              "            document.querySelector('#' + key + ' button');\n",
              "          quickchartButtonEl.disabled = true;  // To prevent multiple clicks.\n",
              "          quickchartButtonEl.classList.add('colab-df-spinner');\n",
              "          try {\n",
              "            const charts = await google.colab.kernel.invokeFunction(\n",
              "                'suggestCharts', [key], {});\n",
              "          } catch (error) {\n",
              "            console.error('Error during call to suggestCharts:', error);\n",
              "          }\n",
              "          quickchartButtonEl.classList.remove('colab-df-spinner');\n",
              "          quickchartButtonEl.classList.add('colab-df-quickchart-complete');\n",
              "        }\n",
              "        (() => {\n",
              "          let quickchartButtonEl =\n",
              "            document.querySelector('#df-f0f96e4e-5599-4bfd-9b62-78101e516acb button');\n",
              "          quickchartButtonEl.style.display =\n",
              "            google.colab.kernel.accessAllowed ? 'block' : 'none';\n",
              "        })();\n",
              "      </script>\n",
              "    </div>\n",
              "\n",
              "    </div>\n",
              "  </div>\n"
            ],
            "application/vnd.google.colaboratory.intrinsic+json": {
              "type": "dataframe",
              "variable_name": "test",
              "summary": "{\n  \"name\": \"test\",\n  \"rows\": 12500,\n  \"fields\": [\n    {\n      \"column\": \"text\",\n      \"properties\": {\n        \"dtype\": \"string\",\n        \"num_unique_values\": 12472,\n        \"samples\": [\n          \"089: Footlight Parade (1933) - released 9/30/1933, viewed 5/5/07.<br /><br />The ice cream cone is invented in New York.<br /><br />KEVIN: After a long and busy break, we hit another Busby Berkeley musical from Warner Bros. This time it's the ultra-fast paced Footlight Parade, starring James Cagney as juggernaut stage producer Chester Kent. I am 100% certain that Cagney was channeling Berkeley with his performance of the irrepressible Kent, who has to come up with new ideas for performances every minute. Joan Blondell is also excellent as the acid-tongued secretary-turned-love interest. The Ruby Keeler/Dick Powell subplot is not as major this time but no less enjoyable. One thing that baffled me was Berkeley's performances themselves, which seemed far too extravagant and complex to be performed on any stage, let alone a stage that would be showing a film afterwards. Obviously Busby doesn't let a little thing like story impede him from putting together the most over-the-top musical numbers he can possibly conjure. I liked nearly all of this movie until the end, with the shamelessly offensive number \\\"Shanghai Lil,\\\" which, as one can guess, is about as stomach-turning as racially distasteful performances come.<br /><br />DOUG: Six movies in three months. Got to be a new record. Anyway\\u0085this completes Warner Bros.' musical trilogy of 1933, preceded by '42nd Street' and 'Gold Diggers of 1933.' I would definitely recommend watching all three in a row. I wonder if James Cagney was channeling Busby Berkeley while he was playing Chester Kent in this movie, or if that the role as written was inspired by Busby. I hope it was; it seems to make sense that Berkeley is the kind of guy who would see elaborate dances in everyday occurrences the way Chester does. The funny thing about Cagney was that he didn't really look like a leading man in the traditional sense. He was 5'7\\\", square-headed, and talked with an odd New York accent. But the guy was quite versatile, going from the venomous gangsters that made him so famous to the fast-talking producer-types we see here. And he could dance. Basically he was a leading man in the body of a character actor. The rest of the cast has some familiar faces; Joan Blondell returns and just about steals the show as Cagney's loyal and lusting secretary; Dick Powell and Ruby Keeler play the cute couple, but seem to get less screen time than before; Billy Barty pops up again as the mischievous imp. The movie is typical of the more racy and adult-oriented musicals of the pre-Code era, as opposed to those of the 50's and 60's that were more family oriented, and is an excellent climax of the Warner musicals of that year (the \\\"Shanghai Lil\\\" number not withstanding, with Keeler doing a poor job at looking Chinese).<br /><br />Last film: Dinner At Eight (1933). Next film: I'm No Angel (1933).\",\n          \"I really liked this movie. Of course the idea is pretty much out there...the federal government arranging to have a tracking device implanted into the jaw of an small-time thief to lure a more dangerous thief/computer hacker out of hiding. But Alvin Sanders, the man who the feds have \\\"volunteered\\\" to be implanted with the device, is a very likable person and it turns out to be a lot of fun getting in his head with him for a little while. Alvin even eventually proves himself to be much more than a good-humored but passive or one-dimensional character when he shows that he is not nearly as easily manipulated as he may seem. Definetly worth a watch.\",\n          \"As a lifelong fan of Dickens, I have invariably been disappointed by adaptations of his novels.<br /><br />Although his works presented an extremely accurate re-telling of human life at every level in Victorian Britain, throughout them all was a pervasive thread of humour that could be both playful or sarcastic as the narrative dictated. In a way, he was a literary caricaturist and cartoonist. He could be serious and hilarious in the same sentence. He pricked pride, lampooned arrogance, celebrated modesty, and empathised with loneliness and poverty. It may be a clich\\u00e9, but he was a people's writer.<br /><br />And it is the comedy that is so often missing from his interpretations. At the time of writing, Oliver Twist is being dramatised in serial form on BBC television. All of the misery and cruelty is their, but non of the humour, irony, and savage lampoonery. The result is just a dark, dismal experience: the story penned by a journalist rather than a novelist. It's not really Dickens at all.<br /><br />'Oliver!', on the other hand, is much closer to the mark. The mockery of officialdom is perfectly interpreted, from the blustering beadle to the drunken magistrate. The classic stand-off between the beadle and Mr Brownlow, in which the law is described as 'a ass, a idiot' couldn't have been better done. Harry Secombe is an ideal choice.<br /><br />But the blinding cruelty is also there, the callous indifference of the state, the cold, hunger, poverty and loneliness are all presented just as surely as The Master would have wished.<br /><br />And then there is crime. Ron Moody is a treasure as the sleazy Jewish fence, whilst Oliver Reid has Bill Sykes to perfection.<br /><br />Perhaps not surprisingly, Lionel Bart - himself a Jew from London's east-end - takes a liberty with Fagin by re-interpreting him as a much more benign fellow than was Dicken's original. In the novel, he was utterly ruthless, sending some of his own boys to the gallows in order to protect himself (though he was also caught and hanged). Whereas in the movie, he is presented as something of a wayward father-figure, a sort of charitable thief rather than a corrupter of children, the latter being a long-standing anti-semitic sentiment. Otherwise, very few liberties are taken with Dickens's original. All of the most memorable elements are included. Just enough menace and violence is retained to ensure narrative fidelity whilst at the same time allowing for children' sensibilities. Nancy is still beaten to death, Bullseye narrowly escapes drowning, and Bill Sykes gets a faithfully graphic come-uppance.<br /><br />Every song is excellent, though they do incline towards schmaltz. Mark Lester mimes his wonderfully. Both his and my favourite scene is the one in which the world comes alive to 'who will buy'. It's schmaltzy, but it's Dickens through and through.<br /><br />I could go on. I could commend the wonderful set-pieces, the contrast of the rich and poor. There is top-quality acting from more British regulars than you could shake a stick at.<br /><br />I ought to give it 10 points, but I'm feeling more like Scrooge today. Soak it up with your Christmas dinner. No original has been better realised.\"\n        ],\n        \"semantic_type\": \"\",\n        \"description\": \"\"\n      }\n    },\n    {\n      \"column\": \"labels\",\n      \"properties\": {\n        \"dtype\": \"number\",\n        \"std\": 0.0,\n        \"min\": 0.0,\n        \"max\": 0.0,\n        \"num_unique_values\": 1,\n        \"samples\": [\n          0.0\n        ],\n        \"semantic_type\": \"\",\n        \"description\": \"\"\n      }\n    }\n  ]\n}"
            }
          },
          "metadata": {},
          "execution_count": 22
        }
      ]
    },
    {
      "cell_type": "markdown",
      "source": [
        "**3.2 Vectorizer - bag of words**"
      ],
      "metadata": {
        "id": "DwLZ82_6ZWzu"
      }
    },
    {
      "cell_type": "code",
      "source": [
        "vectorizer = TfidfVectorizer()\n",
        "spmat = vectorizer.fit_transform(training['text'])\n",
        "feat_names = vectorizer.get_feature_names_out()\n",
        "Xtrain = pd.DataFrame.sparse.from_spmatrix(spmat, columns=feat_names)\n",
        "ytrain = training['labels']"
      ],
      "metadata": {
        "id": "mimThqiBZWMP"
      },
      "execution_count": null,
      "outputs": []
    },
    {
      "cell_type": "markdown",
      "source": [
        "**SGD Classifier - Log Loss L1 Regularization**"
      ],
      "metadata": {
        "id": "e858n3AMZaZe"
      }
    },
    {
      "cell_type": "code",
      "source": [
        "alphas = [0.00001, 0.0001, 0.001, 0.01, 0.1, 1, 10, 100, 1000]\n",
        "results = []\n",
        "for a in alphas:\n",
        "  l1clf = SGDClassifier(loss='log_loss', penalty='l1', alpha=a).fit(Xtrain, ytrain) #Create SGDClassifier with loss of 'log', penalty of 'l1' and proper alpha=a then fit it on (Xtrain, ytrain)\n",
        "  print('Finished training, alpha=%f' % a)\n",
        "  l1cv = cross_val_score(l1clf, Xtrain, ytrain, cv=5,scoring='accuracy', n_jobs=-1) #Create cross_val_score with l1clf for Xtrain and  ytrain with cv=5 'accuracy' as scoring='accuracy' it is good to define n_jobs to make it faster and compute the mean at the end\n",
        "  print('Finished 5-fold CV, alpha=%f' % a)\n",
        "  results.append({'alpha': a, 'log L1': l1cv.mean()}) # append 'alpha' and 'log L1'\n",
        "l1_acc = pd.DataFrame(results)"
      ],
      "metadata": {
        "id": "XS40Ha5EZWOz",
        "colab": {
          "base_uri": "https://localhost:8080/"
        },
        "outputId": "95e02e85-014f-4fae-e941-2f0e8bbdacab"
      },
      "execution_count": null,
      "outputs": [
        {
          "output_type": "stream",
          "name": "stdout",
          "text": [
            "Finished training, alpha=0.000010\n",
            "Finished 5-fold CV, alpha=0.000010\n",
            "Finished training, alpha=0.000100\n",
            "Finished 5-fold CV, alpha=0.000100\n",
            "Finished training, alpha=0.001000\n",
            "Finished 5-fold CV, alpha=0.001000\n",
            "Finished training, alpha=0.010000\n",
            "Finished 5-fold CV, alpha=0.010000\n",
            "Finished training, alpha=0.100000\n",
            "Finished 5-fold CV, alpha=0.100000\n",
            "Finished training, alpha=1.000000\n",
            "Finished 5-fold CV, alpha=1.000000\n",
            "Finished training, alpha=10.000000\n",
            "Finished 5-fold CV, alpha=10.000000\n",
            "Finished training, alpha=100.000000\n",
            "Finished 5-fold CV, alpha=100.000000\n",
            "Finished training, alpha=1000.000000\n",
            "Finished 5-fold CV, alpha=1000.000000\n"
          ]
        }
      ]
    },
    {
      "cell_type": "markdown",
      "source": [
        "**SGD Classifier - Log Loss L2 Regularization**"
      ],
      "metadata": {
        "id": "SaHCPq6TZkmf"
      }
    },
    {
      "cell_type": "code",
      "source": [
        "# Repeat above analysis for L2\n",
        "alphas = [0.00001, 0.0001, 0.001, 0.01, 0.1, 1, 10, 100, 1000]\n",
        "results = []\n",
        "for a in alphas:\n",
        "  l2clf = SGDClassifier(loss='log_loss', penalty='l2', alpha=a).fit(Xtrain, ytrain) #Create SGDClassifier with loss of 'log', penalty of 'l2' and proper alpha=a then fit it on (Xtrain, ytrain)\n",
        "  print('Finished training, alpha=%f' % a)\n",
        "  l2cv = cross_val_score(l2clf, Xtrain, ytrain, cv=5,scoring='accuracy', n_jobs=-1) #Create cross_val_score with l1clf for Xtrain and  ytrain with cv=5 'accuracy' as scoring='accuracy' it is good to define n_jobs to make it faster and compute the mean at the end\n",
        "  print('Finished 5-fold CV, alpha=%f' % a)\n",
        "  results.append({'alpha': a, 'log L2': l2cv.mean()}) # append 'alpha' and 'log L2'\n",
        "\n",
        "l2_acc = pd.DataFrame(results)"
      ],
      "metadata": {
        "id": "51pCuE9HZWRO",
        "colab": {
          "base_uri": "https://localhost:8080/"
        },
        "outputId": "b96463e2-4f15-40bc-ecb1-d84793ad8b9d"
      },
      "execution_count": null,
      "outputs": [
        {
          "output_type": "stream",
          "name": "stdout",
          "text": [
            "Finished training, alpha=0.000010\n",
            "Finished 5-fold CV, alpha=0.000010\n",
            "Finished training, alpha=0.000100\n",
            "Finished 5-fold CV, alpha=0.000100\n",
            "Finished training, alpha=0.001000\n",
            "Finished 5-fold CV, alpha=0.001000\n",
            "Finished training, alpha=0.010000\n",
            "Finished 5-fold CV, alpha=0.010000\n",
            "Finished training, alpha=0.100000\n",
            "Finished 5-fold CV, alpha=0.100000\n",
            "Finished training, alpha=1.000000\n",
            "Finished 5-fold CV, alpha=1.000000\n",
            "Finished training, alpha=10.000000\n",
            "Finished 5-fold CV, alpha=10.000000\n",
            "Finished training, alpha=100.000000\n",
            "Finished 5-fold CV, alpha=100.000000\n",
            "Finished training, alpha=1000.000000\n",
            "Finished 5-fold CV, alpha=1000.000000\n"
          ]
        }
      ]
    },
    {
      "cell_type": "markdown",
      "source": [
        "**L1/L2 Accuracy Plot**"
      ],
      "metadata": {
        "id": "YCLE4tO9Zu99"
      }
    },
    {
      "cell_type": "code",
      "source": [
        "# Create an appropriate plot of L1/L2. rmember to put legend and proper title\n",
        "# Plot L2 results\n",
        "sns.lineplot(x='alpha', y='log L2', data=l2_acc, label='L2')\n",
        "\n",
        "# Plot L1 results\n",
        "sns.lineplot(x='alpha', y='log L1', data=l1_acc, label='L1')\n",
        "\n",
        "# Add  appropriate legend and title\n",
        "plt.xscale('log')  # This sets the x-axis (alpha) to a log scale\n",
        "plt.title('L1/L2 Regularization Accuracy', size=16)\n",
        "plt.legend()\n",
        "plt.show()"
      ],
      "metadata": {
        "id": "iYy3EXnhZWT1",
        "colab": {
          "base_uri": "https://localhost:8080/",
          "height": 478
        },
        "outputId": "7ace374f-4c7d-47ef-8399-576dd5a76775"
      },
      "execution_count": null,
      "outputs": [
        {
          "output_type": "display_data",
          "data": {
            "text/plain": [
              "<Figure size 640x480 with 1 Axes>"
            ],
            "image/png": "[encoded data removed]"
          },
          "metadata": {}
        }
      ]
    },
    {
      "cell_type": "code",
      "source": [],
      "metadata": {
        "id": "DHxdSVpQZIwl"
      },
      "execution_count": null,
      "outputs": []
    },
    {
      "cell_type": "markdown",
      "source": [
        "###Written Questions (Complete these in the Assignment 4.1 Short Answer Template, located in your assignment prompt)\n",
        "(Short answer, 2-3 sentences each):\n",
        "\n",
        "1. In the simulated data section, you used the bootstrap to show you the distribution of the estimated accuracy of your classifier. You plotted this for three different classification methods. Based on this plot, do you think any of the three classification methods is significantly better than the other methods (on this particular dataset)?  \n",
        "_The SGD Classifiers Using Bootstrap chart compares the distributions of the accuracy metric for many bootstrapped samples across three models that use different loss functions. The Log loss model noticeably outperforms the hinge loss model and the perceptron given the narrow distribution which indicates lower variability than the other models, and the higher estimated accuracy score compared to the hinge loss and perceptron models. The perceptron model significantly lags the hinge loss and log loss models as evidenced by its lower estimated accuracy and wider variability which indicates inconsistency._  \n",
        "\n",
        "1. When you had the simulated data and looked for the best regularization parameter, one method (l1 or l2) had a clear advantage over the other. When you used the same code and methods on the text data, was one method of regularization clearly better than the other? Why do you think this was the case? Elaborate.  \n",
        "_Log L1 outperformed Log L2 in the first data set. In the text data, L2 outperformed L1 at a higher penalty to the model complexity, i.e. alpha value. Text data is inherently complex, producing a more complex, therefore a higher penalty is needed to prevent overfitting._"
      ],
      "metadata": {
        "id": "N3kWAawquzJO"
      }
    }
  ]
}