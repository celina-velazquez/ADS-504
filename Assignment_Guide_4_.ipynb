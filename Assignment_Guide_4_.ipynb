{
  "nbformat": 4,
  "nbformat_minor": 0,
  "metadata": {
    "colab": {
      "provenance": [],
      "include_colab_link": true
    },
    "kernelspec": {
      "name": "python3",
      "display_name": "Python 3"
    },
    "language_info": {
      "name": "python"
    }
  },
  "cells": [
    {
      "cell_type": "markdown",
      "metadata": {
        "id": "view-in-github",
        "colab_type": "text"
      },
      "source": [
        "<a href=\"https://colab.research.google.com/github/celina-velazquez/ADS-504/blob/main/Assignment_Guide_4_.ipynb\" target=\"_parent\"><img src=\"https://colab.research.google.com/assets/colab-badge.svg\" alt=\"Open In Colab\"/></a>"
      ]
    },
    {
      "cell_type": "code",
      "execution_count": 2,
      "metadata": {
        "id": "3aYVh-umWgyc"
      },
      "outputs": [],
      "source": [
        " import pandas as pd\n",
        "import numpy as np\n",
        "import os\n",
        "import matplotlib.pyplot as plt\n",
        "import matplotlib\n",
        "import seaborn as sns\n",
        "import tarfile\n",
        "from sklearn.datasets import make_classification\n",
        "from sklearn.preprocessing import OneHotEncoder, OrdinalEncoder, LabelEncoder,StandardScaler, Normalizer\n",
        "#from sklearn.metrics import confusion_matrix, accuracy_score,plot_confusion_matrix, classification_report\n",
        "from sklearn.metrics import confusion_matrix, accuracy_score, ConfusionMatrixDisplay, classification_report\n",
        "from sklearn.model_selection import train_test_split, cross_val_score\n",
        "from sklearn.feature_extraction.text import TfidfVectorizer\n",
        "from sklearn.feature_selection import SelectKBest, chi2\n",
        "from sklearn.linear_model import SGDClassifier\n",
        "from mlxtend.plotting import plot_decision_regions\n",
        "from mlxtend.evaluate import bootstrap_point632_score\n",
        "import warnings\n",
        "warnings.simplefilter(action='ignore', category=FutureWarning)\n",
        "warnings.simplefilter(action='ignore', category=matplotlib.MatplotlibDeprecationWarning)"
      ]
    },
    {
      "cell_type": "markdown",
      "source": [
        "**2 Linear Classification**\n",
        "\n",
        "Install the package mlextend: http://rasbt.github.io/mlxtend/installation/\n",
        "Next, you will do a few exercises to visualize the difference between the different linear classifiers.\n",
        "Generate classification data using make_classification from sklearn.datasets:\n",
        "`X, y = make_classification(n_features=2, n_redundant=0, n_informative=2,random_state=1, n_clusters_per_class=1)`\n",
        "\n",
        "Use SGDClassifier to train classifiers using different loss functions: log, hinge, and perceptron. Visualize\n",
        "the trained classifiers using `plot_decision_regions(X, y, clf=model, legend=2)` from\n",
        "the mlextend package. Plot the decision region for each of the three loss functions: a sample plot\n",
        "for hinge loss appears below."
      ],
      "metadata": {
        "id": "UsWWOMcxW893"
      }
    },
    {
      "cell_type": "code",
      "source": [
        "!pip install mlxtend"
      ],
      "metadata": {
        "colab": {
          "base_uri": "https://localhost:8080/"
        },
        "id": "NBDPqK33wHWT",
        "outputId": "3eb2bfdd-a799-42ab-c5ee-50ea427f0196"
      },
      "execution_count": 3,
      "outputs": [
        {
          "output_type": "stream",
          "name": "stdout",
          "text": [
            "Requirement already satisfied: mlxtend in /usr/local/lib/python3.11/dist-packages (0.23.4)\n",
            "Requirement already satisfied: scipy>=1.2.1 in /usr/local/lib/python3.11/dist-packages (from mlxtend) (1.15.3)\n",
            "Requirement already satisfied: numpy>=1.16.2 in /usr/local/lib/python3.11/dist-packages (from mlxtend) (2.0.2)\n",
            "Requirement already satisfied: pandas>=0.24.2 in /usr/local/lib/python3.11/dist-packages (from mlxtend) (2.2.2)\n",
            "Requirement already satisfied: scikit-learn>=1.3.1 in /usr/local/lib/python3.11/dist-packages (from mlxtend) (1.6.1)\n",
            "Requirement already satisfied: matplotlib>=3.0.0 in /usr/local/lib/python3.11/dist-packages (from mlxtend) (3.10.0)\n",
            "Requirement already satisfied: joblib>=0.13.2 in /usr/local/lib/python3.11/dist-packages (from mlxtend) (1.5.1)\n",
            "Requirement already satisfied: contourpy>=1.0.1 in /usr/local/lib/python3.11/dist-packages (from matplotlib>=3.0.0->mlxtend) (1.3.2)\n",
            "Requirement already satisfied: cycler>=0.10 in /usr/local/lib/python3.11/dist-packages (from matplotlib>=3.0.0->mlxtend) (0.12.1)\n",
            "Requirement already satisfied: fonttools>=4.22.0 in /usr/local/lib/python3.11/dist-packages (from matplotlib>=3.0.0->mlxtend) (4.58.5)\n",
            "Requirement already satisfied: kiwisolver>=1.3.1 in /usr/local/lib/python3.11/dist-packages (from matplotlib>=3.0.0->mlxtend) (1.4.8)\n",
            "Requirement already satisfied: packaging>=20.0 in /usr/local/lib/python3.11/dist-packages (from matplotlib>=3.0.0->mlxtend) (24.2)\n",
            "Requirement already satisfied: pillow>=8 in /usr/local/lib/python3.11/dist-packages (from matplotlib>=3.0.0->mlxtend) (11.2.1)\n",
            "Requirement already satisfied: pyparsing>=2.3.1 in /usr/local/lib/python3.11/dist-packages (from matplotlib>=3.0.0->mlxtend) (3.2.3)\n",
            "Requirement already satisfied: python-dateutil>=2.7 in /usr/local/lib/python3.11/dist-packages (from matplotlib>=3.0.0->mlxtend) (2.9.0.post0)\n",
            "Requirement already satisfied: pytz>=2020.1 in /usr/local/lib/python3.11/dist-packages (from pandas>=0.24.2->mlxtend) (2025.2)\n",
            "Requirement already satisfied: tzdata>=2022.7 in /usr/local/lib/python3.11/dist-packages (from pandas>=0.24.2->mlxtend) (2025.2)\n",
            "Requirement already satisfied: threadpoolctl>=3.1.0 in /usr/local/lib/python3.11/dist-packages (from scikit-learn>=1.3.1->mlxtend) (3.6.0)\n",
            "Requirement already satisfied: six>=1.5 in /usr/local/lib/python3.11/dist-packages (from python-dateutil>=2.7->matplotlib>=3.0.0->mlxtend) (1.17.0)\n"
          ]
        }
      ]
    },
    {
      "cell_type": "code",
      "source": [
        "# Model sits here\n",
        "X, y = make_classification(\n",
        "    n_features=2,           # Number of features per sample\n",
        "    n_redundant=0,          # No redundant features\n",
        "    n_informative=2,        # Both features are informative\n",
        "    random_state=1,         # Reproducible results\n",
        "    n_clusters_per_class=1  # One cluster per class\n",
        ")"
      ],
      "metadata": {
        "id": "yVpw9J9JW8Bw"
      },
      "execution_count": 4,
      "outputs": []
    },
    {
      "cell_type": "markdown",
      "source": [
        "**SGD Classifier - Log Loss**"
      ],
      "metadata": {
        "id": "I2OkoRJ1XYpn"
      }
    },
    {
      "cell_type": "code",
      "source": [
        "sgdclf_log = SGDClassifier(loss='log_loss').fit(X, y)\n",
        "# Plot graph using instruction above\n",
        "plot_decision_regions(X, y, clf=sgdclf_log, legend=2)\n",
        "plt.title('SGD Classifier using Log Loss', size=16)\n",
        "plt.show()"
      ],
      "metadata": {
        "colab": {
          "base_uri": "https://localhost:8080/",
          "height": 454
        },
        "id": "wQjQWQLdXYF5",
        "outputId": "b38e9d73-f362-4616-a33d-a8d6853826d4"
      },
      "execution_count": 10,
      "outputs": [
        {
          "output_type": "display_data",
          "data": {
            "text/plain": [
              "<Figure size 640x480 with 1 Axes>"
            ],
            "image/png": "[encoded data removed]"
          },
          "metadata": {}
        }
      ]
    },
    {
      "cell_type": "markdown",
      "source": [
        "**SGD Classifier - Hinge Loss**"
      ],
      "metadata": {
        "id": "-cSyKsWDXedO"
      }
    },
    {
      "cell_type": "code",
      "source": [
        "sgdclf_hinge = SGDClassifier(loss='hinge').fit(X, y)\n",
        "# Plot graph using instruction above\n",
        "plot_decision_regions(X, y, clf=sgdclf_hinge, legend=2)\n",
        "plt.title('SGD Classifier using Hinge', size=16)\n",
        "plt.show()"
      ],
      "metadata": {
        "colab": {
          "base_uri": "https://localhost:8080/",
          "height": 454
        },
        "id": "nJ1_pRRmW8dv",
        "outputId": "f831ba22-db2e-4d3d-ecc1-98922212372a"
      },
      "execution_count": 11,
      "outputs": [
        {
          "output_type": "display_data",
          "data": {
            "text/plain": [
              "<Figure size 640x480 with 1 Axes>"
            ],
            "image/png": "[encoded data removed]"
          },
          "metadata": {}
        }
      ]
    },
    {
      "cell_type": "markdown",
      "source": [
        "**SGD Classifier - Perceptron**"
      ],
      "metadata": {
        "id": "WokYVlFHXimu"
      }
    },
    {
      "cell_type": "code",
      "source": [
        "sgdclf_perc = SGDClassifier(loss='perceptron').fit(X, y)\n",
        "# Plot graph using instruction above\n",
        "plot_decision_regions(X, y, clf=sgdclf_perc, legend=2)\n",
        "plt.title('SGD Classifier using Perceptron', size=16)\n",
        "plt.show()"
      ],
      "metadata": {
        "colab": {
          "base_uri": "https://localhost:8080/",
          "height": 454
        },
        "id": "Begzvr2pW8gP",
        "outputId": "3408f6fd-3fa1-4a92-c2cc-29f96aca921a"
      },
      "execution_count": 12,
      "outputs": [
        {
          "output_type": "display_data",
          "data": {
            "text/plain": [
              "<Figure size 640x480 with 1 Axes>"
            ],
            "image/png": "[encoded data removed]"
          },
          "metadata": {}
        }
      ]
    },
    {
      "cell_type": "markdown",
      "source": [
        "Now, create a larger classification dataset. You will use cross_val_score from scikit-learn and\n",
        "compare this to bootstrap_scores from mlextend.\n",
        "Set up the simulated data as follows:\n",
        "\n",
        "`X, y = make_classification(n_samples=10000,n_features=20, n_redundant=0, n_informative=20,random_state=1,n_clusters_per_class=1)`\n",
        "\n",
        "With your classifier in a variable called model (using SGDClassifier, as before), you can get the\n",
        "accuracies as follows:\n",
        "\n",
        "```\n",
        "scores = cross_val_score(model, X, y, cv=5,scoring=scoring)\n",
        "bootstrap_scores = bootstrap_point632_score(model, X, y, method='oob')\n",
        "```\n",
        "\n",
        "Create a table with the average of each cross-validation score and the average of the bootstrap\n",
        "scores."
      ],
      "metadata": {
        "id": "ALom1fn6Xntu"
      }
    },
    {
      "cell_type": "code",
      "source": [
        "X, y = # Use above description to create x and y"
      ],
      "metadata": {
        "id": "SI8fnhmXW8in"
      },
      "execution_count": null,
      "outputs": []
    },
    {
      "cell_type": "code",
      "source": [
        "# Here is a recommanded loop to create models\n",
        "loss_f = ['log', 'hinge', 'perceptron']\n",
        "sgdclfs = [SGDClassifier(loss=loss).fit(X, y) for loss in loss_f]\n",
        "scores_list = []\n",
        "avg_list = []\n",
        "for i, loss in enumerate(loss_f):\n",
        "  cv = #cross_val_score is created here\n",
        "  bs = #bootstrap is created here\n",
        "  scores_list #append loss as 'model', cv as 'cv' and bs as 'bs'\n",
        "  avg_list #append loss, cv.mean(), bs.mean() with apropriate column names"
      ],
      "metadata": {
        "id": "w1N75PORW8lA"
      },
      "execution_count": null,
      "outputs": []
    },
    {
      "cell_type": "markdown",
      "source": [
        "**Table of Average cross-validation/bootstrap scores**"
      ],
      "metadata": {
        "id": "0f9pAGQOYFsW"
      }
    },
    {
      "cell_type": "code",
      "source": [
        "pd.DataFrame(avg_list)"
      ],
      "metadata": {
        "colab": {
          "base_uri": "https://localhost:8080/",
          "height": 143
        },
        "id": "3ixZVEftYFP-",
        "outputId": "93a005ff-3d7d-42b8-b158-845cb6cc20db"
      },
      "execution_count": null,
      "outputs": [
        {
          "output_type": "execute_result",
          "data": {
            "text/plain": [
              "        model  Average Cross Validation  Average Bootstrap\n",
              "0         log                    0.9013           0.901948\n",
              "1       hinge                    0.8942           0.897719\n",
              "2  perceptron                    0.8749           0.875585"
            ],
            "text/html": [
              "\n",
              "  <div id=\"df-3e5d1c2a-e58d-45a4-9a4a-0b15e3c9e083\">\n",
              "    <div class=\"colab-df-container\">\n",
              "      <div>\n",
              "<style scoped>\n",
              "    .dataframe tbody tr th:only-of-type {\n",
              "        vertical-align: middle;\n",
              "    }\n",
              "\n",
              "    .dataframe tbody tr th {\n",
              "        vertical-align: top;\n",
              "    }\n",
              "\n",
              "    .dataframe thead th {\n",
              "        text-align: right;\n",
              "    }\n",
              "</style>\n",
              "<table border=\"1\" class=\"dataframe\">\n",
              "  <thead>\n",
              "    <tr style=\"text-align: right;\">\n",
              "      <th></th>\n",
              "      <th>model</th>\n",
              "      <th>Average Cross Validation</th>\n",
              "      <th>Average Bootstrap</th>\n",
              "    </tr>\n",
              "  </thead>\n",
              "  <tbody>\n",
              "    <tr>\n",
              "      <th>0</th>\n",
              "      <td>log</td>\n",
              "      <td>0.9013</td>\n",
              "      <td>0.901948</td>\n",
              "    </tr>\n",
              "    <tr>\n",
              "      <th>1</th>\n",
              "      <td>hinge</td>\n",
              "      <td>0.8942</td>\n",
              "      <td>0.897719</td>\n",
              "    </tr>\n",
              "    <tr>\n",
              "      <th>2</th>\n",
              "      <td>perceptron</td>\n",
              "      <td>0.8749</td>\n",
              "      <td>0.875585</td>\n",
              "    </tr>\n",
              "  </tbody>\n",
              "</table>\n",
              "</div>\n",
              "      <button class=\"colab-df-convert\" onclick=\"convertToInteractive('df-3e5d1c2a-e58d-45a4-9a4a-0b15e3c9e083')\"\n",
              "              title=\"Convert this dataframe to an interactive table.\"\n",
              "              style=\"display:none;\">\n",
              "        \n",
              "  <svg xmlns=\"http://www.w3.org/2000/svg\" height=\"24px\"viewBox=\"0 0 24 24\"\n",
              "       width=\"24px\">\n",
              "    <path d=\"M0 0h24v24H0V0z\" fill=\"none\"/>\n",
              "    <path d=\"M18.56 5.44l.94 2.06.94-2.06 2.06-.94-2.06-.94-.94-2.06-.94 2.06-2.06.94zm-11 1L8.5 8.5l.94-2.06 2.06-.94-2.06-.94L8.5 2.5l-.94 2.06-2.06.94zm10 10l.94 2.06.94-2.06 2.06-.94-2.06-.94-.94-2.06-.94 2.06-2.06.94z\"/><path d=\"M17.41 7.96l-1.37-1.37c-.4-.4-.92-.59-1.43-.59-.52 0-1.04.2-1.43.59L10.3 9.45l-7.72 7.72c-.78.78-.78 2.05 0 2.83L4 21.41c.39.39.9.59 1.41.59.51 0 1.02-.2 1.41-.59l7.78-7.78 2.81-2.81c.8-.78.8-2.07 0-2.86zM5.41 20L4 18.59l7.72-7.72 1.47 1.35L5.41 20z\"/>\n",
              "  </svg>\n",
              "      </button>\n",
              "      \n",
              "  <style>\n",
              "    .colab-df-container {\n",
              "      display:flex;\n",
              "      flex-wrap:wrap;\n",
              "      gap: 12px;\n",
              "    }\n",
              "\n",
              "    .colab-df-convert {\n",
              "      background-color: #E8F0FE;\n",
              "      border: none;\n",
              "      border-radius: 50%;\n",
              "      cursor: pointer;\n",
              "      display: none;\n",
              "      fill: #1967D2;\n",
              "      height: 32px;\n",
              "      padding: 0 0 0 0;\n",
              "      width: 32px;\n",
              "    }\n",
              "\n",
              "    .colab-df-convert:hover {\n",
              "      background-color: #E2EBFA;\n",
              "      box-shadow: 0px 1px 2px rgba(60, 64, 67, 0.3), 0px 1px 3px 1px rgba(60, 64, 67, 0.15);\n",
              "      fill: #174EA6;\n",
              "    }\n",
              "\n",
              "    [theme=dark] .colab-df-convert {\n",
              "      background-color: #3B4455;\n",
              "      fill: #D2E3FC;\n",
              "    }\n",
              "\n",
              "    [theme=dark] .colab-df-convert:hover {\n",
              "      background-color: #434B5C;\n",
              "      box-shadow: 0px 1px 3px 1px rgba(0, 0, 0, 0.15);\n",
              "      filter: drop-shadow(0px 1px 2px rgba(0, 0, 0, 0.3));\n",
              "      fill: #FFFFFF;\n",
              "    }\n",
              "  </style>\n",
              "\n",
              "      <script>\n",
              "        const buttonEl =\n",
              "          document.querySelector('#df-3e5d1c2a-e58d-45a4-9a4a-0b15e3c9e083 button.colab-df-convert');\n",
              "        buttonEl.style.display =\n",
              "          google.colab.kernel.accessAllowed ? 'block' : 'none';\n",
              "\n",
              "        async function convertToInteractive(key) {\n",
              "          const element = document.querySelector('#df-3e5d1c2a-e58d-45a4-9a4a-0b15e3c9e083');\n",
              "          const dataTable =\n",
              "            await google.colab.kernel.invokeFunction('convertToInteractive',\n",
              "                                                     [key], {});\n",
              "          if (!dataTable) return;\n",
              "\n",
              "          const docLinkHtml = 'Like what you see? Visit the ' +\n",
              "            '<a target=\"_blank\" href=https://colab.research.google.com/notebooks/data_table.ipynb>data table notebook</a>'\n",
              "            + ' to learn more about interactive tables.';\n",
              "          element.innerHTML = '';\n",
              "          dataTable['output_type'] = 'display_data';\n",
              "          await google.colab.output.renderOutput(dataTable, element);\n",
              "          const docLink = document.createElement('div');\n",
              "          docLink.innerHTML = docLinkHtml;\n",
              "          element.appendChild(docLink);\n",
              "        }\n",
              "      </script>\n",
              "    </div>\n",
              "  </div>\n",
              "  "
            ]
          },
          "metadata": {},
          "execution_count": 17
        }
      ]
    },
    {
      "cell_type": "code",
      "source": [
        "scores_df = pd.DataFrame(scores_list)\n",
        "\n",
        "#Use sns to plot hinge, log and perceptron. Remember they are all stored in scores_list['bs']\n",
        "\n",
        "plt.title('SGD Classifiers using Bootstrap', size=16)\n",
        "plt.legend()\n",
        "plt.show()"
      ],
      "metadata": {
        "colab": {
          "base_uri": "https://localhost:8080/",
          "height": 283
        },
        "id": "g0VPd_4LYDwn",
        "outputId": "731154c1-540f-4ba4-fd97-cfb8576795d6"
      },
      "execution_count": null,
      "outputs": [
        {
          "output_type": "display_data",
          "data": {
            "text/plain": [
              "<Figure size 432x288 with 1 Axes>"
            ],
            "image/png": "[encoded data removed]"
          },
          "metadata": {
            "needs_background": "light"
          }
        }
      ]
    },
    {
      "cell_type": "markdown",
      "source": [
        "Finally, you will look at the importance of setting the regularization parameter. Create a database\n",
        "with only two informative features:\n",
        "\n",
        "`X, y = make_classification(n_samples=1000,n_features=2000, n_redundant=0, n_informative=2,random_state=1, n_clusters_per_class=1)`\n",
        "\n",
        "Train a regularized classifier using ‘log’ as the loss function. Try both types of regularization ‘l1’\n",
        "and ‘l2’ and sweep alpha over a range from: [0.0001,0.001,0.01,0.1,1,10,100,1000]. Use fivefold\n",
        "cross-validation to measure accuracy. Create a table of accuracy indexed by alpha, and use this\n",
        "table to plot the accuracy for both types of regularization. Your plot should look like this:"
      ],
      "metadata": {
        "id": "Odu_s7AsYMs2"
      }
    },
    {
      "cell_type": "code",
      "source": [
        "X, y = #Create X and y here"
      ],
      "metadata": {
        "id": "p_lIeVABYDy_"
      },
      "execution_count": null,
      "outputs": []
    },
    {
      "cell_type": "code",
      "source": [
        "alphas = [0.0001, 0.001, 0.01, 0.1, 1, 10, 100, 1000]\n",
        "results = []\n",
        "for a in alphas:\n",
        "  l1clf = #Classifier with loss='log', penalty='l1', alpha=a, Then fit it on X and y\n",
        "  l2clf = #Classifier with loss='log', penalty='l2', alpha=a, Then fit it on X and y\n",
        "  l1cv = # Compute cross_val_score for l1clf, cv=5, scoring='accuracy' and mean\n",
        "  l2cv = # Compute cross_val_score for l2clf, cv=5, scoring='accuracy' and mean\n",
        "  results.append({'alpha': a, 'log L1': l1cv, 'log L2': l2cv})"
      ],
      "metadata": {
        "id": "DKQYNQmCYD1g"
      },
      "execution_count": null,
      "outputs": []
    },
    {
      "cell_type": "markdown",
      "source": [
        "**Accuracy Table by alpha value**"
      ],
      "metadata": {
        "id": "iUNEoatDYZ_X"
      }
    },
    {
      "cell_type": "code",
      "source": [
        "reg_df = #Create a dataframe of results and store it here\n",
        "reg_df"
      ],
      "metadata": {
        "colab": {
          "base_uri": "https://localhost:8080/",
          "height": 300
        },
        "id": "Sk3e_Aa3YD38",
        "outputId": "568e67b4-94ca-4cea-dfa3-371cadb51768"
      },
      "execution_count": null,
      "outputs": [
        {
          "output_type": "execute_result",
          "data": {
            "text/plain": [
              "       alpha  log L1  log L2\n",
              "0     0.0001   0.651   0.653\n",
              "1     0.0010   0.645   0.654\n",
              "2     0.0100   0.680   0.645\n",
              "3     0.1000   0.892   0.666\n",
              "4     1.0000   0.499   0.643\n",
              "5    10.0000   0.501   0.545\n",
              "6   100.0000   0.503   0.501\n",
              "7  1000.0000   0.499   0.497"
            ],
            "text/html": [
              "\n",
              "  <div id=\"df-521dd41b-f3fc-469a-9de6-62ffb5f7875d\">\n",
              "    <div class=\"colab-df-container\">\n",
              "      <div>\n",
              "<style scoped>\n",
              "    .dataframe tbody tr th:only-of-type {\n",
              "        vertical-align: middle;\n",
              "    }\n",
              "\n",
              "    .dataframe tbody tr th {\n",
              "        vertical-align: top;\n",
              "    }\n",
              "\n",
              "    .dataframe thead th {\n",
              "        text-align: right;\n",
              "    }\n",
              "</style>\n",
              "<table border=\"1\" class=\"dataframe\">\n",
              "  <thead>\n",
              "    <tr style=\"text-align: right;\">\n",
              "      <th></th>\n",
              "      <th>alpha</th>\n",
              "      <th>log L1</th>\n",
              "      <th>log L2</th>\n",
              "    </tr>\n",
              "  </thead>\n",
              "  <tbody>\n",
              "    <tr>\n",
              "      <th>0</th>\n",
              "      <td>0.0001</td>\n",
              "      <td>0.651</td>\n",
              "      <td>0.653</td>\n",
              "    </tr>\n",
              "    <tr>\n",
              "      <th>1</th>\n",
              "      <td>0.0010</td>\n",
              "      <td>0.645</td>\n",
              "      <td>0.654</td>\n",
              "    </tr>\n",
              "    <tr>\n",
              "      <th>2</th>\n",
              "      <td>0.0100</td>\n",
              "      <td>0.680</td>\n",
              "      <td>0.645</td>\n",
              "    </tr>\n",
              "    <tr>\n",
              "      <th>3</th>\n",
              "      <td>0.1000</td>\n",
              "      <td>0.892</td>\n",
              "      <td>0.666</td>\n",
              "    </tr>\n",
              "    <tr>\n",
              "      <th>4</th>\n",
              "      <td>1.0000</td>\n",
              "      <td>0.499</td>\n",
              "      <td>0.643</td>\n",
              "    </tr>\n",
              "    <tr>\n",
              "      <th>5</th>\n",
              "      <td>10.0000</td>\n",
              "      <td>0.501</td>\n",
              "      <td>0.545</td>\n",
              "    </tr>\n",
              "    <tr>\n",
              "      <th>6</th>\n",
              "      <td>100.0000</td>\n",
              "      <td>0.503</td>\n",
              "      <td>0.501</td>\n",
              "    </tr>\n",
              "    <tr>\n",
              "      <th>7</th>\n",
              "      <td>1000.0000</td>\n",
              "      <td>0.499</td>\n",
              "      <td>0.497</td>\n",
              "    </tr>\n",
              "  </tbody>\n",
              "</table>\n",
              "</div>\n",
              "      <button class=\"colab-df-convert\" onclick=\"convertToInteractive('df-521dd41b-f3fc-469a-9de6-62ffb5f7875d')\"\n",
              "              title=\"Convert this dataframe to an interactive table.\"\n",
              "              style=\"display:none;\">\n",
              "        \n",
              "  <svg xmlns=\"http://www.w3.org/2000/svg\" height=\"24px\"viewBox=\"0 0 24 24\"\n",
              "       width=\"24px\">\n",
              "    <path d=\"M0 0h24v24H0V0z\" fill=\"none\"/>\n",
              "    <path d=\"M18.56 5.44l.94 2.06.94-2.06 2.06-.94-2.06-.94-.94-2.06-.94 2.06-2.06.94zm-11 1L8.5 8.5l.94-2.06 2.06-.94-2.06-.94L8.5 2.5l-.94 2.06-2.06.94zm10 10l.94 2.06.94-2.06 2.06-.94-2.06-.94-.94-2.06-.94 2.06-2.06.94z\"/><path d=\"M17.41 7.96l-1.37-1.37c-.4-.4-.92-.59-1.43-.59-.52 0-1.04.2-1.43.59L10.3 9.45l-7.72 7.72c-.78.78-.78 2.05 0 2.83L4 21.41c.39.39.9.59 1.41.59.51 0 1.02-.2 1.41-.59l7.78-7.78 2.81-2.81c.8-.78.8-2.07 0-2.86zM5.41 20L4 18.59l7.72-7.72 1.47 1.35L5.41 20z\"/>\n",
              "  </svg>\n",
              "      </button>\n",
              "      \n",
              "  <style>\n",
              "    .colab-df-container {\n",
              "      display:flex;\n",
              "      flex-wrap:wrap;\n",
              "      gap: 12px;\n",
              "    }\n",
              "\n",
              "    .colab-df-convert {\n",
              "      background-color: #E8F0FE;\n",
              "      border: none;\n",
              "      border-radius: 50%;\n",
              "      cursor: pointer;\n",
              "      display: none;\n",
              "      fill: #1967D2;\n",
              "      height: 32px;\n",
              "      padding: 0 0 0 0;\n",
              "      width: 32px;\n",
              "    }\n",
              "\n",
              "    .colab-df-convert:hover {\n",
              "      background-color: #E2EBFA;\n",
              "      box-shadow: 0px 1px 2px rgba(60, 64, 67, 0.3), 0px 1px 3px 1px rgba(60, 64, 67, 0.15);\n",
              "      fill: #174EA6;\n",
              "    }\n",
              "\n",
              "    [theme=dark] .colab-df-convert {\n",
              "      background-color: #3B4455;\n",
              "      fill: #D2E3FC;\n",
              "    }\n",
              "\n",
              "    [theme=dark] .colab-df-convert:hover {\n",
              "      background-color: #434B5C;\n",
              "      box-shadow: 0px 1px 3px 1px rgba(0, 0, 0, 0.15);\n",
              "      filter: drop-shadow(0px 1px 2px rgba(0, 0, 0, 0.3));\n",
              "      fill: #FFFFFF;\n",
              "    }\n",
              "  </style>\n",
              "\n",
              "      <script>\n",
              "        const buttonEl =\n",
              "          document.querySelector('#df-521dd41b-f3fc-469a-9de6-62ffb5f7875d button.colab-df-convert');\n",
              "        buttonEl.style.display =\n",
              "          google.colab.kernel.accessAllowed ? 'block' : 'none';\n",
              "\n",
              "        async function convertToInteractive(key) {\n",
              "          const element = document.querySelector('#df-521dd41b-f3fc-469a-9de6-62ffb5f7875d');\n",
              "          const dataTable =\n",
              "            await google.colab.kernel.invokeFunction('convertToInteractive',\n",
              "                                                     [key], {});\n",
              "          if (!dataTable) return;\n",
              "\n",
              "          const docLinkHtml = 'Like what you see? Visit the ' +\n",
              "            '<a target=\"_blank\" href=https://colab.research.google.com/notebooks/data_table.ipynb>data table notebook</a>'\n",
              "            + ' to learn more about interactive tables.';\n",
              "          element.innerHTML = '';\n",
              "          dataTable['output_type'] = 'display_data';\n",
              "          await google.colab.output.renderOutput(dataTable, element);\n",
              "          const docLink = document.createElement('div');\n",
              "          docLink.innerHTML = docLinkHtml;\n",
              "          element.appendChild(docLink);\n",
              "        }\n",
              "      </script>\n",
              "    </div>\n",
              "  </div>\n",
              "  "
            ]
          },
          "metadata": {},
          "execution_count": 21
        }
      ]
    },
    {
      "cell_type": "markdown",
      "source": [
        "**L1/L2 Regularization Accuracy Plot**"
      ],
      "metadata": {
        "id": "rANlxPW2Yd_3"
      }
    },
    {
      "cell_type": "code",
      "source": [
        "# Use sns.lineplot for reg_df['alpha'] vs reg_df['log L2']\n",
        "# Use sns.lineplot for reg_df['alpha'] vs reg_df['log L1']\n",
        "# Add  appropriate legend and title\n",
        "plt.show()"
      ],
      "metadata": {
        "colab": {
          "base_uri": "https://localhost:8080/",
          "height": 301
        },
        "id": "RyYXH4eVYD5_",
        "outputId": "40c0709b-5867-4189-e6e1-f3f4c9667684"
      },
      "execution_count": null,
      "outputs": [
        {
          "output_type": "display_data",
          "data": {
            "text/plain": [
              "<Figure size 432x288 with 1 Axes>"
            ],
            "image/png": "[encoded data removed]"
          },
          "metadata": {
            "needs_background": "light"
          }
        }
      ]
    },
    {
      "cell_type": "markdown",
      "source": [
        "**3 Large Scale Linear Classification**\n",
        "Next, you will use data from a dataset of movie reviews. Unzip the data in aclImdb_v1.tar.\n",
        "\n",
        "There are several formats of data here, but one simple way to load the data into python is to load\n",
        "the files individually into a python list, and then use tfidfVectorizer to convert the reviews into bag\n",
        "of words feature files. Make sure to use pd.DataFrame.sparse.from_spmatrix to make a dataframe\n",
        "from the word features.\n",
        "Now, you will use fivefold cross-validation to look at the effect of the regularization penalty on\n",
        "accuracy. You should be able to simply adapt your code from the earlier section with simulated\n",
        "data to work on this real data. Note that due to the larger size of this text data, this section will\n",
        "take several minutes or more to run.\n",
        "\n",
        "for alpha in [0.00001,0.0001,0.001,0.01,0.1,1,10,100,1000]: for penalty in [‘l1’,‘l2’]\n",
        "\n",
        "**3.1 Download Dataset**\n",
        "\n",
        "https://ai.stanford.edu/~amaas/data/sentiment/aclImdb_v1.tar.gz\n",
        "Since you run the assignment on Google Colab, you don't need to bother extracting all the text\n",
        "files from the tarball. The following cells just reads all the filenames in a dataframe and you will have\n",
        "7\n",
        "code iterating the training and test files, reading the text into a list and appending labels into a\n",
        "dataframe and the dataframes are constructed."
      ],
      "metadata": {
        "id": "v7u_7lRIYinW"
      }
    },
    {
      "cell_type": "code",
      "source": [
        "import urllib.request\n",
        "# Download tar.gz file\n",
        "urllib.request.urlretrieve('https://ai.stanford.edu/~amaas/data/sentiment/aclImdb_v1.tar.gz', 'aclImdb_v1.tar.gz')"
      ],
      "metadata": {
        "colab": {
          "base_uri": "https://localhost:8080/"
        },
        "id": "OxFdlz0yYe83",
        "outputId": "e60a01c0-fcfc-4a53-acc1-2719fd6f5133"
      },
      "execution_count": null,
      "outputs": [
        {
          "output_type": "execute_result",
          "data": {
            "text/plain": [
              "('aclImdb_v1.tar.gz', <http.client.HTTPMessage at 0x7fb0e2662f50>)"
            ]
          },
          "metadata": {},
          "execution_count": 23
        }
      ]
    },
    {
      "cell_type": "code",
      "source": [
        "tar = tarfile.open(\"aclImdb_v1.tar.gz\", \"r:gz\")\n",
        "file_df = pd.DataFrame([m.name for m in tar.getmembers()], columns=['filename'])\n",
        "# Paths\n",
        "train_neg = 'aclImdb/train/neg/'\n",
        "train_pos = 'aclImdb/train/pos/'\n",
        "test_neg = 'aclImdb/test/neg/'\n",
        "test_pos = 'aclImdb/test/pos/'"
      ],
      "metadata": {
        "id": "602sxhBVYe_W"
      },
      "execution_count": null,
      "outputs": []
    },
    {
      "cell_type": "markdown",
      "source": [
        "**Training Dataset**"
      ],
      "metadata": {
        "id": "N-umGLJ4Y3ye"
      }
    },
    {
      "cell_type": "code",
      "source": [
        "# This part of code creates train data\n",
        "# Running this part takes quite some time\n",
        "files = file_df[file_df['filename'].str.startswith(train_neg)]['filename'].tolist()\n",
        "neglist = []\n",
        "for file in files:\n",
        "  f = tar.extractfile(file)\n",
        "  if f is not None:\n",
        "    neglist.append(f.read().decode(\"utf-8\"))\n",
        "files = file_df[file_df['filename'].str.startswith(train_pos)]['filename'].tolist()\n",
        "poslist = []\n",
        "for file in files:\n",
        "  f = tar.extractfile(file)\n",
        "  if f is not None:\n",
        "    poslist.append(f.read().decode(\"utf-8\"))\n",
        "train_neg_df = pd.DataFrame(list(zip(neglist, np.zeros(len(neglist)))),columns=['text', 'labels'])\n",
        "train_pos_df = pd.DataFrame(list(zip(poslist, np.ones(len(poslist)))),columns=['text', 'labels'])\n",
        "training = pd.concat([train_neg_df, train_pos_df], ignore_index=True)"
      ],
      "metadata": {
        "id": "OV5RUQYRYfCf"
      },
      "execution_count": null,
      "outputs": []
    },
    {
      "cell_type": "code",
      "source": [
        "training.head()"
      ],
      "metadata": {
        "id": "kzVK17TjYD9_"
      },
      "execution_count": null,
      "outputs": []
    },
    {
      "cell_type": "markdown",
      "source": [
        "**Test Dataset**"
      ],
      "metadata": {
        "id": "Zk-7aVrcZKU1"
      }
    },
    {
      "cell_type": "code",
      "source": [
        "# Use similar strategy to create testing data"
      ],
      "metadata": {
        "id": "zzaGk6K7ZIpl"
      },
      "execution_count": null,
      "outputs": []
    },
    {
      "cell_type": "code",
      "source": [
        "testing.head()"
      ],
      "metadata": {
        "id": "2y4orC-IZIr-"
      },
      "execution_count": null,
      "outputs": []
    },
    {
      "cell_type": "markdown",
      "source": [
        "**3.2 Vectorizer - bag of words**"
      ],
      "metadata": {
        "id": "DwLZ82_6ZWzu"
      }
    },
    {
      "cell_type": "code",
      "source": [
        "vectorizer = TfidfVectorizer()\n",
        "spmat = vectorizer.fit_transform(training['text'])\n",
        "feat_names = vectorizer.get_feature_names()\n",
        "Xtrain = pd.DataFrame.sparse.from_spmatrix(spmat, columns=feat_names)\n",
        "ytrain = training['labels']"
      ],
      "metadata": {
        "id": "mimThqiBZWMP"
      },
      "execution_count": null,
      "outputs": []
    },
    {
      "cell_type": "markdown",
      "source": [
        "**SGD Classifier - Log Loss L1 Regularization**"
      ],
      "metadata": {
        "id": "e858n3AMZaZe"
      }
    },
    {
      "cell_type": "code",
      "source": [
        "alphas = [0.00001, 0.0001, 0.001, 0.01, 0.1, 1, 10, 100, 1000]\n",
        "results = []\n",
        "for a in alphas:\n",
        "  l1clf = #Create SGDClassifier with loss of 'log', penalty of 'l1' and proper alpha=a then fit it on (Xtrain, ytrain)\n",
        "  print('Finished training, alpha=%f' % a)\n",
        "  l1cv = #Create cross_val_score with l1clf for Xtrain and  ytrain with cv=5 'accuracy' as scoring='accuracy' it is good to define n_jobs to make it faster and compute the mean at the end\n",
        "  print('Finished 5-fold CV, alpha=%f' % a)\n",
        "  results # append 'alpha' and 'log L1'\n",
        "l1_acc = pd.DataFrame(results)"
      ],
      "metadata": {
        "id": "XS40Ha5EZWOz"
      },
      "execution_count": null,
      "outputs": []
    },
    {
      "cell_type": "markdown",
      "source": [
        "**SGD Classifier - Log Loss L2 Regularization**"
      ],
      "metadata": {
        "id": "SaHCPq6TZkmf"
      }
    },
    {
      "cell_type": "code",
      "source": [
        "# Repeat above analysis for L2\n",
        "l2_acc = pd.DataFrame(results)"
      ],
      "metadata": {
        "id": "51pCuE9HZWRO"
      },
      "execution_count": null,
      "outputs": []
    },
    {
      "cell_type": "markdown",
      "source": [
        "**L1/L2 Accuracy Plot**"
      ],
      "metadata": {
        "id": "YCLE4tO9Zu99"
      }
    },
    {
      "cell_type": "code",
      "source": [
        "# Create an appropriate plot of L1/L2. rmember to put legend and proper title"
      ],
      "metadata": {
        "id": "iYy3EXnhZWT1"
      },
      "execution_count": null,
      "outputs": []
    },
    {
      "cell_type": "code",
      "source": [],
      "metadata": {
        "id": "DHxdSVpQZIwl"
      },
      "execution_count": null,
      "outputs": []
    }
  ]
}